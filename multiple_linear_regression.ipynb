{
  "nbformat": 4,
  "nbformat_minor": 0,
  "metadata": {
    "colab": {
      "provenance": [],
      "include_colab_link": true
    },
    "kernelspec": {
      "name": "python3",
      "display_name": "Python 3"
    },
    "language_info": {
      "name": "python"
    }
  },
  "cells": [
    {
      "cell_type": "markdown",
      "metadata": {
        "id": "view-in-github",
        "colab_type": "text"
      },
      "source": [
        "<a href=\"https://colab.research.google.com/github/gauravtailor8520/Machine-Learning/blob/main/multiple_linear_regression.ipynb\" target=\"_parent\"><img src=\"https://colab.research.google.com/assets/colab-badge.svg\" alt=\"Open In Colab\"/></a>"
      ]
    },
    {
      "cell_type": "markdown",
      "source": [
        "#Sklearn"
      ],
      "metadata": {
        "id": "g6N54Rs_8i3J"
      }
    },
    {
      "cell_type": "code",
      "metadata": {
        "id": "dd82LHwLmpkF"
      },
      "source": [
        "from sklearn.datasets import make_regression\n",
        "import pandas as pd\n",
        "import numpy as np\n",
        "\n",
        "import plotly.express as px\n",
        "import plotly.graph_objects as go\n",
        "\n",
        "from sklearn.metrics import mean_absolute_error,mean_squared_error,r2_score"
      ],
      "execution_count": null,
      "outputs": []
    },
    {
      "cell_type": "code",
      "metadata": {
        "id": "o-kkwl10m9Ef"
      },
      "source": [
        "X,y = make_regression(n_samples=100, n_features=2, n_informative=2, n_targets=1, noise=50)"
      ],
      "execution_count": null,
      "outputs": []
    },
    {
      "cell_type": "code",
      "source": [
        "X"
      ],
      "metadata": {
        "colab": {
          "base_uri": "https://localhost:8080/"
        },
        "id": "sPfGRxMGmfLa",
        "outputId": "e2ed7ec9-44aa-4196-f362-e6275b4c5d3f"
      },
      "execution_count": null,
      "outputs": [
        {
          "output_type": "execute_result",
          "data": {
            "text/plain": [
              "array([[-1.16832715e+00, -8.75464789e-01],\n",
              "       [-7.32226936e-01,  1.61056421e+00],\n",
              "       [ 7.07634914e-01, -1.45350980e+00],\n",
              "       [-1.40540369e+00,  1.13755325e+00],\n",
              "       [ 1.29122190e-01,  6.95598840e-01],\n",
              "       [ 5.27987919e-01, -7.91597305e-02],\n",
              "       [ 1.10021187e+00,  1.60171975e+00],\n",
              "       [ 5.41646236e-01, -1.38042579e+00],\n",
              "       [ 1.40691875e+00,  7.54441462e-01],\n",
              "       [-1.29086789e+00, -1.50212787e+00],\n",
              "       [ 1.18293018e-01,  4.08595766e-01],\n",
              "       [ 1.10955908e+00, -1.12331072e+00],\n",
              "       [ 2.03393608e+00,  6.08184694e-01],\n",
              "       [-5.47858263e-01, -7.15396281e-01],\n",
              "       [-1.90016776e+00,  1.24650320e+00],\n",
              "       [ 2.01272009e+00,  2.07799039e-01],\n",
              "       [ 5.19370954e-02, -1.31674664e+00],\n",
              "       [-4.92224873e-01,  2.62923139e-01],\n",
              "       [ 2.49618606e-01,  1.12201854e+00],\n",
              "       [ 1.98664760e-01,  1.13323112e+00],\n",
              "       [-4.20002220e-01, -1.08879335e+00],\n",
              "       [ 1.13249728e-01, -3.39300065e-01],\n",
              "       [-2.93101287e-01, -6.64211704e-01],\n",
              "       [-1.21677362e-01,  5.88152754e-01],\n",
              "       [-9.03159469e-01,  3.94192535e-01],\n",
              "       [-6.52318307e-01,  8.87464649e-01],\n",
              "       [-1.14781999e-01,  1.44332272e+00],\n",
              "       [ 1.45716295e+00,  5.50961741e-01],\n",
              "       [-1.52566227e+00,  3.86669063e-01],\n",
              "       [-4.28528534e-01, -4.02798229e-01],\n",
              "       [ 1.38034278e+00,  3.57414612e-01],\n",
              "       [-1.88255359e+00, -2.69339761e-01],\n",
              "       [ 2.23268917e-01,  2.45531346e-01],\n",
              "       [ 1.64250091e+00, -4.80058482e-01],\n",
              "       [-1.75867479e-02,  6.00560881e-02],\n",
              "       [ 1.61673545e+00, -1.88129467e+00],\n",
              "       [ 1.71703020e+00,  5.09653438e-01],\n",
              "       [-7.67491037e-01,  6.76568755e-01],\n",
              "       [-9.56628693e-01,  1.24915520e+00],\n",
              "       [ 6.80027415e-01,  2.43664323e-01],\n",
              "       [ 7.46303326e-02,  9.20372632e-01],\n",
              "       [-3.50360839e-01, -2.84630798e-01],\n",
              "       [ 9.93787272e-01,  2.43538568e-01],\n",
              "       [ 1.15575701e+00,  1.46034502e-01],\n",
              "       [ 1.62360860e+00, -3.18493695e-01],\n",
              "       [ 1.57888349e-01,  8.90713855e-01],\n",
              "       [ 1.14845185e-01, -6.95967684e-01],\n",
              "       [-1.12979877e+00,  1.94007770e-02],\n",
              "       [-2.37118121e-01, -1.08285902e+00],\n",
              "       [ 1.90561639e+00,  1.86773533e+00],\n",
              "       [ 1.31198675e+00, -2.04292049e-01],\n",
              "       [-3.20681143e-01,  2.00248840e+00],\n",
              "       [-1.45874533e+00,  8.29884773e-01],\n",
              "       [ 2.97148398e-01,  2.06656050e+00],\n",
              "       [-1.11538040e+00,  3.71127232e-01],\n",
              "       [-3.26012051e-01,  6.64538838e-01],\n",
              "       [ 1.35301199e+00,  1.36349058e-01],\n",
              "       [ 2.37622450e+00,  1.43520940e+00],\n",
              "       [-4.96292008e-01,  8.51525017e-01],\n",
              "       [-1.50030457e-01,  6.22324143e-02],\n",
              "       [-3.22025992e-01, -1.03405302e+00],\n",
              "       [ 6.87667111e-01, -2.04180058e+00],\n",
              "       [ 1.25265855e+00, -4.49473624e-01],\n",
              "       [ 4.27945128e-01,  8.11168505e-01],\n",
              "       [-7.56249119e-01,  1.06414874e+00],\n",
              "       [ 1.88357681e-01,  7.49825027e-01],\n",
              "       [-5.45482223e-01, -1.42287277e+00],\n",
              "       [-9.38930629e-02, -6.31596092e-01],\n",
              "       [ 1.38763949e+00, -8.14729539e-02],\n",
              "       [-1.22994345e-01,  1.05756018e-01],\n",
              "       [ 4.98835849e-01, -5.26132732e-01],\n",
              "       [ 1.22760013e+00, -1.07125212e+00],\n",
              "       [-1.32872759e-01, -3.14943599e-01],\n",
              "       [ 8.46844981e-01,  2.01883435e-01],\n",
              "       [ 2.40064467e-01,  1.82685320e+00],\n",
              "       [ 9.09103483e-01,  2.14033546e-01],\n",
              "       [-4.88468852e-01,  4.49494273e-01],\n",
              "       [-3.68740947e-01,  1.44076122e+00],\n",
              "       [ 7.67105921e-02, -9.96426138e-01],\n",
              "       [-5.87609038e-01, -9.12250151e-01],\n",
              "       [ 1.09236701e+00,  1.70332245e+00],\n",
              "       [ 1.48161570e+00,  6.83442130e-03],\n",
              "       [ 1.40083725e+00,  1.55460725e+00],\n",
              "       [ 2.09200022e+00, -7.32784602e-01],\n",
              "       [-1.13960288e+00,  2.18881399e-02],\n",
              "       [ 1.84107229e-01, -5.63249427e-01],\n",
              "       [ 1.13166009e+00, -5.41731529e-01],\n",
              "       [-2.69700754e+00,  9.66603169e-01],\n",
              "       [-3.02594665e-01,  3.65953447e-01],\n",
              "       [-8.46090889e-01,  1.68154265e+00],\n",
              "       [-2.40943266e-02, -7.31380784e-01],\n",
              "       [-2.95900066e-01,  1.66407939e+00],\n",
              "       [-2.28608783e-03, -1.19899280e+00],\n",
              "       [ 3.61010395e-01,  1.07407204e+00],\n",
              "       [ 3.09913686e-01,  8.02107137e-01],\n",
              "       [-1.40067770e+00,  3.24534242e-01],\n",
              "       [-3.80913213e-01, -7.70474086e-01],\n",
              "       [-1.13223047e-01, -9.13179027e-01],\n",
              "       [ 1.60894764e+00,  8.36682307e-01],\n",
              "       [ 2.70480795e-01, -3.72691028e-01]])"
            ]
          },
          "metadata": {},
          "execution_count": 6
        }
      ]
    },
    {
      "cell_type": "code",
      "source": [
        "y"
      ],
      "metadata": {
        "colab": {
          "base_uri": "https://localhost:8080/"
        },
        "id": "q2Qgk-bzmvbF",
        "outputId": "add094b3-d5ce-4330-dd10-f39d4858be02"
      },
      "execution_count": null,
      "outputs": [
        {
          "output_type": "execute_result",
          "data": {
            "text/plain": [
              "array([ -98.91678023,  -11.70861783,   59.33656318,   46.87206904,\n",
              "        115.25331384,   26.85388313,   92.19828023,  -57.78163608,\n",
              "        167.33528308, -108.3930598 , -101.18754065,   33.84428872,\n",
              "        145.37244625,  -66.16470806,  -85.25890042,   75.13687086,\n",
              "       -100.91317222,  -89.9766255 ,   63.39273544,  118.03583905,\n",
              "        -21.9774145 ,   18.36235667,  -78.83621124,    1.53260975,\n",
              "          2.04536123,   21.1353281 ,   32.19206611,  120.88184896,\n",
              "       -122.01044148,   29.5310267 ,   13.60242031, -103.9192829 ,\n",
              "         48.29242274,   94.05334037,   32.95806499,    0.68084652,\n",
              "         50.68866818,   24.5953839 ,   72.61283683,  -41.87332453,\n",
              "         77.61443144,  -87.24305208,  -30.25708767,  203.69854501,\n",
              "         23.90940796,  132.78492451,  -37.72868155,  -46.49730882,\n",
              "         33.74918917,  128.11384252,   88.48670486,   76.05234353,\n",
              "        -15.96283825,  101.00089796,  -19.71018195,   26.47194386,\n",
              "         47.1272148 ,  139.93371814,   49.45314368,  -58.24069421,\n",
              "         -8.26677656,  -11.87816998,   64.93699668,   -4.25271821,\n",
              "         15.7786512 ,  -25.66492093,  -56.10746333,    9.2156581 ,\n",
              "         31.63533959,   17.56853368,  -61.60580451,  -24.15323822,\n",
              "        -42.08199031,   31.25146385,   85.78086431,   27.96722801,\n",
              "         -6.6115853 ,   68.10244318,   -8.56460642,  -27.90109075,\n",
              "         96.12870794,   65.7476182 ,  141.51751274,   78.11350128,\n",
              "         21.92579437,   19.5027953 ,   -5.29812326,  -39.65795689,\n",
              "         38.11711723,   17.23225742,  -65.74864252,   18.22492208,\n",
              "        -31.27008826,  100.06079729,  115.39364944,  -10.50955954,\n",
              "        -49.66646117,  -61.72727556,   70.08669426, -141.23483321])"
            ]
          },
          "metadata": {},
          "execution_count": 12
        }
      ]
    },
    {
      "cell_type": "code",
      "metadata": {
        "id": "hf4eEtH5nNZC"
      },
      "source": [
        "df = pd.DataFrame({'feature1':X[:,0],'feature2':X[:,1],'target':y})"
      ],
      "execution_count": null,
      "outputs": []
    },
    {
      "cell_type": "code",
      "metadata": {
        "colab": {
          "base_uri": "https://localhost:8080/"
        },
        "id": "hfz-7c5pmmOw",
        "outputId": "2b5956cc-9f17-4d3f-aa64-5fb0902bb89d"
      },
      "source": [
        "df.shape"
      ],
      "execution_count": null,
      "outputs": [
        {
          "output_type": "execute_result",
          "data": {
            "text/plain": [
              "(100, 3)"
            ]
          },
          "metadata": {},
          "execution_count": 14
        }
      ]
    },
    {
      "cell_type": "code",
      "metadata": {
        "colab": {
          "base_uri": "https://localhost:8080/",
          "height": 206
        },
        "id": "01dAHVqsAuDp",
        "outputId": "b04950ec-3b1b-41c3-83cb-6120081f31f4"
      },
      "source": [
        "df.head()"
      ],
      "execution_count": null,
      "outputs": [
        {
          "output_type": "execute_result",
          "data": {
            "text/plain": [
              "   feature1  feature2      target\n",
              "0 -1.168327 -0.875465  -98.916780\n",
              "1 -0.732227  1.610564  -11.708618\n",
              "2  0.707635 -1.453510   59.336563\n",
              "3 -1.405404  1.137553   46.872069\n",
              "4  0.129122  0.695599  115.253314"
            ],
            "text/html": [
              "\n",
              "  <div id=\"df-e307fa32-6c1a-417d-81c3-14f7a83d5ec3\" class=\"colab-df-container\">\n",
              "    <div>\n",
              "<style scoped>\n",
              "    .dataframe tbody tr th:only-of-type {\n",
              "        vertical-align: middle;\n",
              "    }\n",
              "\n",
              "    .dataframe tbody tr th {\n",
              "        vertical-align: top;\n",
              "    }\n",
              "\n",
              "    .dataframe thead th {\n",
              "        text-align: right;\n",
              "    }\n",
              "</style>\n",
              "<table border=\"1\" class=\"dataframe\">\n",
              "  <thead>\n",
              "    <tr style=\"text-align: right;\">\n",
              "      <th></th>\n",
              "      <th>feature1</th>\n",
              "      <th>feature2</th>\n",
              "      <th>target</th>\n",
              "    </tr>\n",
              "  </thead>\n",
              "  <tbody>\n",
              "    <tr>\n",
              "      <th>0</th>\n",
              "      <td>-1.168327</td>\n",
              "      <td>-0.875465</td>\n",
              "      <td>-98.916780</td>\n",
              "    </tr>\n",
              "    <tr>\n",
              "      <th>1</th>\n",
              "      <td>-0.732227</td>\n",
              "      <td>1.610564</td>\n",
              "      <td>-11.708618</td>\n",
              "    </tr>\n",
              "    <tr>\n",
              "      <th>2</th>\n",
              "      <td>0.707635</td>\n",
              "      <td>-1.453510</td>\n",
              "      <td>59.336563</td>\n",
              "    </tr>\n",
              "    <tr>\n",
              "      <th>3</th>\n",
              "      <td>-1.405404</td>\n",
              "      <td>1.137553</td>\n",
              "      <td>46.872069</td>\n",
              "    </tr>\n",
              "    <tr>\n",
              "      <th>4</th>\n",
              "      <td>0.129122</td>\n",
              "      <td>0.695599</td>\n",
              "      <td>115.253314</td>\n",
              "    </tr>\n",
              "  </tbody>\n",
              "</table>\n",
              "</div>\n",
              "    <div class=\"colab-df-buttons\">\n",
              "\n",
              "  <div class=\"colab-df-container\">\n",
              "    <button class=\"colab-df-convert\" onclick=\"convertToInteractive('df-e307fa32-6c1a-417d-81c3-14f7a83d5ec3')\"\n",
              "            title=\"Convert this dataframe to an interactive table.\"\n",
              "            style=\"display:none;\">\n",
              "\n",
              "  <svg xmlns=\"http://www.w3.org/2000/svg\" height=\"24px\" viewBox=\"0 -960 960 960\">\n",
              "    <path d=\"M120-120v-720h720v720H120Zm60-500h600v-160H180v160Zm220 220h160v-160H400v160Zm0 220h160v-160H400v160ZM180-400h160v-160H180v160Zm440 0h160v-160H620v160ZM180-180h160v-160H180v160Zm440 0h160v-160H620v160Z\"/>\n",
              "  </svg>\n",
              "    </button>\n",
              "\n",
              "  <style>\n",
              "    .colab-df-container {\n",
              "      display:flex;\n",
              "      gap: 12px;\n",
              "    }\n",
              "\n",
              "    .colab-df-convert {\n",
              "      background-color: #E8F0FE;\n",
              "      border: none;\n",
              "      border-radius: 50%;\n",
              "      cursor: pointer;\n",
              "      display: none;\n",
              "      fill: #1967D2;\n",
              "      height: 32px;\n",
              "      padding: 0 0 0 0;\n",
              "      width: 32px;\n",
              "    }\n",
              "\n",
              "    .colab-df-convert:hover {\n",
              "      background-color: #E2EBFA;\n",
              "      box-shadow: 0px 1px 2px rgba(60, 64, 67, 0.3), 0px 1px 3px 1px rgba(60, 64, 67, 0.15);\n",
              "      fill: #174EA6;\n",
              "    }\n",
              "\n",
              "    .colab-df-buttons div {\n",
              "      margin-bottom: 4px;\n",
              "    }\n",
              "\n",
              "    [theme=dark] .colab-df-convert {\n",
              "      background-color: #3B4455;\n",
              "      fill: #D2E3FC;\n",
              "    }\n",
              "\n",
              "    [theme=dark] .colab-df-convert:hover {\n",
              "      background-color: #434B5C;\n",
              "      box-shadow: 0px 1px 3px 1px rgba(0, 0, 0, 0.15);\n",
              "      filter: drop-shadow(0px 1px 2px rgba(0, 0, 0, 0.3));\n",
              "      fill: #FFFFFF;\n",
              "    }\n",
              "  </style>\n",
              "\n",
              "    <script>\n",
              "      const buttonEl =\n",
              "        document.querySelector('#df-e307fa32-6c1a-417d-81c3-14f7a83d5ec3 button.colab-df-convert');\n",
              "      buttonEl.style.display =\n",
              "        google.colab.kernel.accessAllowed ? 'block' : 'none';\n",
              "\n",
              "      async function convertToInteractive(key) {\n",
              "        const element = document.querySelector('#df-e307fa32-6c1a-417d-81c3-14f7a83d5ec3');\n",
              "        const dataTable =\n",
              "          await google.colab.kernel.invokeFunction('convertToInteractive',\n",
              "                                                    [key], {});\n",
              "        if (!dataTable) return;\n",
              "\n",
              "        const docLinkHtml = 'Like what you see? Visit the ' +\n",
              "          '<a target=\"_blank\" href=https://colab.research.google.com/notebooks/data_table.ipynb>data table notebook</a>'\n",
              "          + ' to learn more about interactive tables.';\n",
              "        element.innerHTML = '';\n",
              "        dataTable['output_type'] = 'display_data';\n",
              "        await google.colab.output.renderOutput(dataTable, element);\n",
              "        const docLink = document.createElement('div');\n",
              "        docLink.innerHTML = docLinkHtml;\n",
              "        element.appendChild(docLink);\n",
              "      }\n",
              "    </script>\n",
              "  </div>\n",
              "\n",
              "\n",
              "<div id=\"df-8ba8296c-82b9-40a3-82b4-81d4a74631eb\">\n",
              "  <button class=\"colab-df-quickchart\" onclick=\"quickchart('df-8ba8296c-82b9-40a3-82b4-81d4a74631eb')\"\n",
              "            title=\"Suggest charts\"\n",
              "            style=\"display:none;\">\n",
              "\n",
              "<svg xmlns=\"http://www.w3.org/2000/svg\" height=\"24px\"viewBox=\"0 0 24 24\"\n",
              "     width=\"24px\">\n",
              "    <g>\n",
              "        <path d=\"M19 3H5c-1.1 0-2 .9-2 2v14c0 1.1.9 2 2 2h14c1.1 0 2-.9 2-2V5c0-1.1-.9-2-2-2zM9 17H7v-7h2v7zm4 0h-2V7h2v10zm4 0h-2v-4h2v4z\"/>\n",
              "    </g>\n",
              "</svg>\n",
              "  </button>\n",
              "\n",
              "<style>\n",
              "  .colab-df-quickchart {\n",
              "      --bg-color: #E8F0FE;\n",
              "      --fill-color: #1967D2;\n",
              "      --hover-bg-color: #E2EBFA;\n",
              "      --hover-fill-color: #174EA6;\n",
              "      --disabled-fill-color: #AAA;\n",
              "      --disabled-bg-color: #DDD;\n",
              "  }\n",
              "\n",
              "  [theme=dark] .colab-df-quickchart {\n",
              "      --bg-color: #3B4455;\n",
              "      --fill-color: #D2E3FC;\n",
              "      --hover-bg-color: #434B5C;\n",
              "      --hover-fill-color: #FFFFFF;\n",
              "      --disabled-bg-color: #3B4455;\n",
              "      --disabled-fill-color: #666;\n",
              "  }\n",
              "\n",
              "  .colab-df-quickchart {\n",
              "    background-color: var(--bg-color);\n",
              "    border: none;\n",
              "    border-radius: 50%;\n",
              "    cursor: pointer;\n",
              "    display: none;\n",
              "    fill: var(--fill-color);\n",
              "    height: 32px;\n",
              "    padding: 0;\n",
              "    width: 32px;\n",
              "  }\n",
              "\n",
              "  .colab-df-quickchart:hover {\n",
              "    background-color: var(--hover-bg-color);\n",
              "    box-shadow: 0 1px 2px rgba(60, 64, 67, 0.3), 0 1px 3px 1px rgba(60, 64, 67, 0.15);\n",
              "    fill: var(--button-hover-fill-color);\n",
              "  }\n",
              "\n",
              "  .colab-df-quickchart-complete:disabled,\n",
              "  .colab-df-quickchart-complete:disabled:hover {\n",
              "    background-color: var(--disabled-bg-color);\n",
              "    fill: var(--disabled-fill-color);\n",
              "    box-shadow: none;\n",
              "  }\n",
              "\n",
              "  .colab-df-spinner {\n",
              "    border: 2px solid var(--fill-color);\n",
              "    border-color: transparent;\n",
              "    border-bottom-color: var(--fill-color);\n",
              "    animation:\n",
              "      spin 1s steps(1) infinite;\n",
              "  }\n",
              "\n",
              "  @keyframes spin {\n",
              "    0% {\n",
              "      border-color: transparent;\n",
              "      border-bottom-color: var(--fill-color);\n",
              "      border-left-color: var(--fill-color);\n",
              "    }\n",
              "    20% {\n",
              "      border-color: transparent;\n",
              "      border-left-color: var(--fill-color);\n",
              "      border-top-color: var(--fill-color);\n",
              "    }\n",
              "    30% {\n",
              "      border-color: transparent;\n",
              "      border-left-color: var(--fill-color);\n",
              "      border-top-color: var(--fill-color);\n",
              "      border-right-color: var(--fill-color);\n",
              "    }\n",
              "    40% {\n",
              "      border-color: transparent;\n",
              "      border-right-color: var(--fill-color);\n",
              "      border-top-color: var(--fill-color);\n",
              "    }\n",
              "    60% {\n",
              "      border-color: transparent;\n",
              "      border-right-color: var(--fill-color);\n",
              "    }\n",
              "    80% {\n",
              "      border-color: transparent;\n",
              "      border-right-color: var(--fill-color);\n",
              "      border-bottom-color: var(--fill-color);\n",
              "    }\n",
              "    90% {\n",
              "      border-color: transparent;\n",
              "      border-bottom-color: var(--fill-color);\n",
              "    }\n",
              "  }\n",
              "</style>\n",
              "\n",
              "  <script>\n",
              "    async function quickchart(key) {\n",
              "      const quickchartButtonEl =\n",
              "        document.querySelector('#' + key + ' button');\n",
              "      quickchartButtonEl.disabled = true;  // To prevent multiple clicks.\n",
              "      quickchartButtonEl.classList.add('colab-df-spinner');\n",
              "      try {\n",
              "        const charts = await google.colab.kernel.invokeFunction(\n",
              "            'suggestCharts', [key], {});\n",
              "      } catch (error) {\n",
              "        console.error('Error during call to suggestCharts:', error);\n",
              "      }\n",
              "      quickchartButtonEl.classList.remove('colab-df-spinner');\n",
              "      quickchartButtonEl.classList.add('colab-df-quickchart-complete');\n",
              "    }\n",
              "    (() => {\n",
              "      let quickchartButtonEl =\n",
              "        document.querySelector('#df-8ba8296c-82b9-40a3-82b4-81d4a74631eb button');\n",
              "      quickchartButtonEl.style.display =\n",
              "        google.colab.kernel.accessAllowed ? 'block' : 'none';\n",
              "    })();\n",
              "  </script>\n",
              "</div>\n",
              "\n",
              "    </div>\n",
              "  </div>\n"
            ],
            "application/vnd.google.colaboratory.intrinsic+json": {
              "type": "dataframe",
              "variable_name": "df",
              "summary": "{\n  \"name\": \"df\",\n  \"rows\": 100,\n  \"fields\": [\n    {\n      \"column\": \"feature1\",\n      \"properties\": {\n        \"dtype\": \"number\",\n        \"std\": 1.0091033082891048,\n        \"min\": -2.697007536250571,\n        \"max\": 2.3762244970716218,\n        \"num_unique_values\": 100,\n        \"samples\": [\n          2.0920002152187536,\n          0.297148397730495,\n          0.4988358485192349\n        ],\n        \"semantic_type\": \"\",\n        \"description\": \"\"\n      }\n    },\n    {\n      \"column\": \"feature2\",\n      \"properties\": {\n        \"dtype\": \"number\",\n        \"std\": 0.9530510218047669,\n        \"min\": -2.041800580970981,\n        \"max\": 2.0665604995061284,\n        \"num_unique_values\": 100,\n        \"samples\": [\n          -0.7327846021216472,\n          2.0665604995061284,\n          -0.5261327324544333\n        ],\n        \"semantic_type\": \"\",\n        \"description\": \"\"\n      }\n    },\n    {\n      \"column\": \"target\",\n      \"properties\": {\n        \"dtype\": \"number\",\n        \"std\": 70.61181678626298,\n        \"min\": -141.2348332085461,\n        \"max\": 203.69854500733098,\n        \"num_unique_values\": 100,\n        \"samples\": [\n          78.11350128097699,\n          101.0008979603731,\n          -61.60580451393564\n        ],\n        \"semantic_type\": \"\",\n        \"description\": \"\"\n      }\n    }\n  ]\n}"
            }
          },
          "metadata": {},
          "execution_count": 15
        }
      ]
    },
    {
      "cell_type": "code",
      "metadata": {
        "colab": {
          "base_uri": "https://localhost:8080/",
          "height": 542
        },
        "id": "kvlFl8W1Bn5p",
        "outputId": "6b34536c-14cc-4d9b-a836-21c58fe7a84e"
      },
      "source": [
        "fig = px.scatter_3d(df, x='feature1', y='feature2', z='target')\n",
        "\n",
        "fig.show()"
      ],
      "execution_count": null,
      "outputs": [
        {
          "output_type": "display_data",
          "data": {
            "text/html": [
              "<html>\n",
              "<head><meta charset=\"utf-8\" /></head>\n",
              "<body>\n",
              "    <div>            <script src=\"https://cdnjs.cloudflare.com/ajax/libs/mathjax/2.7.5/MathJax.js?config=TeX-AMS-MML_SVG\"></script><script type=\"text/javascript\">if (window.MathJax && window.MathJax.Hub && window.MathJax.Hub.Config) {window.MathJax.Hub.Config({SVG: {font: \"STIX-Web\"}});}</script>                <script type=\"text/javascript\">window.PlotlyConfig = {MathJaxConfig: 'local'};</script>\n",
              "        <script charset=\"utf-8\" src=\"https://cdn.plot.ly/plotly-2.24.1.min.js\"></script>                <div id=\"9d538ca7-eb70-4270-8406-360c1feb2c4d\" class=\"plotly-graph-div\" style=\"height:525px; width:100%;\"></div>            <script type=\"text/javascript\">                                    window.PLOTLYENV=window.PLOTLYENV || {};                                    if (document.getElementById(\"9d538ca7-eb70-4270-8406-360c1feb2c4d\")) {                    Plotly.newPlot(                        \"9d538ca7-eb70-4270-8406-360c1feb2c4d\",                        [{\"hovertemplate\":\"feature1=%{x}\\u003cbr\\u003efeature2=%{y}\\u003cbr\\u003etarget=%{z}\\u003cextra\\u003e\\u003c\\u002fextra\\u003e\",\"legendgroup\":\"\",\"marker\":{\"color\":\"#636efa\",\"symbol\":\"circle\"},\"mode\":\"markers\",\"name\":\"\",\"scene\":\"scene\",\"showlegend\":false,\"x\":[-1.1683271508711537,-0.7322269364761063,0.7076349140312665,-1.4054036889128911,0.12912218978083095,0.5279879185723836,1.100211873353852,0.5416462356313901,1.4069187527424234,-1.2908678939483786,0.11829301771285147,1.1095590794557442,2.0339360772749924,-0.5478582629885042,-1.9001677553914975,2.0127200896410917,0.05193709543138178,-0.4922248731803119,0.2496186060412795,0.19866475988115095,-0.4200022201629691,0.11324972792214603,-0.29310128688442944,-0.12167736205474225,-0.9031594692255328,-0.6523183070899865,-0.11478199870015553,1.4571629537323052,-1.5256622746680433,-0.42852853449422984,1.3803427791852187,-1.882553588049647,0.22326891675582575,1.6425009094092373,-0.01758674789821172,1.6167354539453294,1.7170301986819725,-0.7674910371844224,-0.95662869340239,0.6800274149186099,0.07463033259909505,-0.35036083900165743,0.9937872716694199,1.1557570123932444,1.623608602895293,0.15788834911653638,0.11484518490866033,-1.1297987732458619,-0.23711812097301435,1.9056163874093732,1.311986749757713,-0.3206811426215034,-1.4587453300088566,0.297148397730495,-1.1153803996208047,-0.32601205089869556,1.353011989606796,2.3762244970716218,-0.4962920077348957,-0.15003045679821475,-0.3220259918908365,0.6876671114415094,1.252658554631058,0.42794512785215805,-0.7562491185967134,0.18835768080297183,-0.5454822233327125,-0.09389306294468745,1.3876394876590812,-0.12299434504616204,0.4988358485192349,1.2276001261887814,-0.13287275938628024,0.8468449813901036,0.2400644665063693,0.909103482831463,-0.48846885167121346,-0.36874094678268216,0.07671059206483011,-0.5876090382046473,1.092367009290458,1.4816156971090866,1.4008372523287125,2.0920002152187536,-1.1396028775864457,0.18410722881886418,1.1316600905575578,-2.697007536250571,-0.3025946645089075,-0.846090888733957,-0.024094326600202276,-0.295900065516236,-0.0022860878349995747,0.36101039462621876,0.3099136862341087,-1.4006776996313066,-0.38091321295935116,-0.11322304731624581,1.6089476403947192,0.2704807948086977],\"y\":[-0.8754647891212884,1.610564206704359,-1.4535098024424145,1.1375532473495082,0.6955988404588592,-0.07915973049740772,1.601719746941833,-1.3804257930493904,0.7544414619724027,-1.5021278692056415,0.40859576595168023,-1.1233107204808777,0.608184694078642,-0.7153962810183122,1.2465032012957786,0.2077990393717558,-1.316746637777975,0.26292313913478566,1.1220185415851907,1.133231118061449,-1.0887933464718098,-0.33930006530480694,-0.6642117041449582,0.588152754400662,0.3941925345434103,0.8874646486390451,1.4433227159729745,0.55096174061661,0.3866690627746206,-0.40279822850560587,0.3574146121594415,-0.26933976074134985,0.24553134614052052,-0.4800584820598324,0.06005608807523515,-1.881294667016047,0.5096534381709309,0.676568755171774,1.2491552040355849,0.2436643230680758,0.9203726322495622,-0.284630798264119,0.24353856761165552,0.14603450226099654,-0.3184936954090652,0.8907138548708402,-0.6959676843283193,0.019400777018649455,-1.0828590235706548,1.8677353312026999,-0.20429204878121784,2.0024883967455853,0.8298847730433397,2.0665604995061284,0.37112723200748676,0.6645388382819328,0.13634905842786155,1.4352094028742222,0.851525016911039,0.0622324142545672,-1.0340530174949711,-2.041800580970981,-0.4494736243247587,0.8111685053244234,1.0641487412733093,0.7498250272964752,-1.4228727700310642,-0.6315960916632113,-0.08147295385119599,0.10575601821625166,-0.5261327324544333,-1.0712521225236789,-0.3149435989102829,0.20188343543035336,1.8268532012219223,0.21403354649372305,0.4494942732185183,1.4407612239380363,-0.9964261375446083,-0.9122501507826306,1.703322452077234,0.006834421296173623,1.5546072525258088,-0.7327846021216472,0.02188813993401702,-0.5632494269959426,-0.54173152938665,0.966603169151615,0.3659534474045088,1.6815426452319016,-0.7313807838267962,1.6640793889481025,-1.1989928010598334,1.074072038134854,0.8021071370141658,0.3245342417803262,-0.7704740858188456,-0.9131790273475698,0.836682306948025,-0.37269102812864224],\"z\":[-98.9167802276824,-11.70861783012877,59.33656317527449,46.872069036653016,115.25331383816358,26.85388313405279,92.19828023373728,-57.7816360808544,167.33528308362986,-108.39305980235629,-101.1875406506427,33.844288720244165,145.37244624924543,-66.16470806193983,-85.25890042332642,75.13687085878173,-100.91317221883696,-89.97662550114876,63.392735438635505,118.03583904925243,-21.977414495797326,18.362356673378713,-78.83621124339673,1.5326097542442643,2.0453612340874336,21.135328095015424,32.192066113148115,120.88184896204177,-122.01044148076568,29.53102670116959,13.602420311586897,-103.91928289775532,48.29242274433919,94.05334036827168,32.958064992044875,0.6808465215807145,50.68866817508207,24.595383901013303,72.61283682509307,-41.87332452746265,77.61443144498345,-87.24305208095123,-30.25708766980442,203.69854500733098,23.909407963796397,132.78492451196664,-37.72868155040777,-46.49730881727432,33.749189169891075,128.11384251743166,88.48670486048829,76.05234352716185,-15.962838245304287,101.0008979603731,-19.710181948454483,26.47194386048995,47.12721480175335,139.9337181433204,49.45314368438698,-58.2406942112067,-8.266776555455024,-11.878169982840845,64.93699668053603,-4.252718208217793,15.77865120077439,-25.664920929498642,-56.10746333031397,9.215658102085204,31.635339587596906,17.568533676207466,-61.60580451393564,-24.1532382162566,-42.08199031457114,31.251463854365607,85.78086430797883,27.967228007562266,-6.611585303336945,68.10244317918347,-8.564606421607284,-27.901090749278705,96.12870794481337,65.74761819815116,141.51751273500304,78.11350128097699,21.92579436566482,19.502795295063116,-5.298123255503146,-39.65795688601298,38.11711723115298,17.232257424518274,-65.74864252053156,18.224922082954006,-31.27008826411295,100.06079729048625,115.39364944076948,-10.509559543232683,-49.666461173859446,-61.727275563771094,70.08669426002214,-141.2348332085461],\"type\":\"scatter3d\"}],                        {\"template\":{\"data\":{\"histogram2dcontour\":[{\"type\":\"histogram2dcontour\",\"colorbar\":{\"outlinewidth\":0,\"ticks\":\"\"},\"colorscale\":[[0.0,\"#0d0887\"],[0.1111111111111111,\"#46039f\"],[0.2222222222222222,\"#7201a8\"],[0.3333333333333333,\"#9c179e\"],[0.4444444444444444,\"#bd3786\"],[0.5555555555555556,\"#d8576b\"],[0.6666666666666666,\"#ed7953\"],[0.7777777777777778,\"#fb9f3a\"],[0.8888888888888888,\"#fdca26\"],[1.0,\"#f0f921\"]]}],\"choropleth\":[{\"type\":\"choropleth\",\"colorbar\":{\"outlinewidth\":0,\"ticks\":\"\"}}],\"histogram2d\":[{\"type\":\"histogram2d\",\"colorbar\":{\"outlinewidth\":0,\"ticks\":\"\"},\"colorscale\":[[0.0,\"#0d0887\"],[0.1111111111111111,\"#46039f\"],[0.2222222222222222,\"#7201a8\"],[0.3333333333333333,\"#9c179e\"],[0.4444444444444444,\"#bd3786\"],[0.5555555555555556,\"#d8576b\"],[0.6666666666666666,\"#ed7953\"],[0.7777777777777778,\"#fb9f3a\"],[0.8888888888888888,\"#fdca26\"],[1.0,\"#f0f921\"]]}],\"heatmap\":[{\"type\":\"heatmap\",\"colorbar\":{\"outlinewidth\":0,\"ticks\":\"\"},\"colorscale\":[[0.0,\"#0d0887\"],[0.1111111111111111,\"#46039f\"],[0.2222222222222222,\"#7201a8\"],[0.3333333333333333,\"#9c179e\"],[0.4444444444444444,\"#bd3786\"],[0.5555555555555556,\"#d8576b\"],[0.6666666666666666,\"#ed7953\"],[0.7777777777777778,\"#fb9f3a\"],[0.8888888888888888,\"#fdca26\"],[1.0,\"#f0f921\"]]}],\"heatmapgl\":[{\"type\":\"heatmapgl\",\"colorbar\":{\"outlinewidth\":0,\"ticks\":\"\"},\"colorscale\":[[0.0,\"#0d0887\"],[0.1111111111111111,\"#46039f\"],[0.2222222222222222,\"#7201a8\"],[0.3333333333333333,\"#9c179e\"],[0.4444444444444444,\"#bd3786\"],[0.5555555555555556,\"#d8576b\"],[0.6666666666666666,\"#ed7953\"],[0.7777777777777778,\"#fb9f3a\"],[0.8888888888888888,\"#fdca26\"],[1.0,\"#f0f921\"]]}],\"contourcarpet\":[{\"type\":\"contourcarpet\",\"colorbar\":{\"outlinewidth\":0,\"ticks\":\"\"}}],\"contour\":[{\"type\":\"contour\",\"colorbar\":{\"outlinewidth\":0,\"ticks\":\"\"},\"colorscale\":[[0.0,\"#0d0887\"],[0.1111111111111111,\"#46039f\"],[0.2222222222222222,\"#7201a8\"],[0.3333333333333333,\"#9c179e\"],[0.4444444444444444,\"#bd3786\"],[0.5555555555555556,\"#d8576b\"],[0.6666666666666666,\"#ed7953\"],[0.7777777777777778,\"#fb9f3a\"],[0.8888888888888888,\"#fdca26\"],[1.0,\"#f0f921\"]]}],\"surface\":[{\"type\":\"surface\",\"colorbar\":{\"outlinewidth\":0,\"ticks\":\"\"},\"colorscale\":[[0.0,\"#0d0887\"],[0.1111111111111111,\"#46039f\"],[0.2222222222222222,\"#7201a8\"],[0.3333333333333333,\"#9c179e\"],[0.4444444444444444,\"#bd3786\"],[0.5555555555555556,\"#d8576b\"],[0.6666666666666666,\"#ed7953\"],[0.7777777777777778,\"#fb9f3a\"],[0.8888888888888888,\"#fdca26\"],[1.0,\"#f0f921\"]]}],\"mesh3d\":[{\"type\":\"mesh3d\",\"colorbar\":{\"outlinewidth\":0,\"ticks\":\"\"}}],\"scatter\":[{\"fillpattern\":{\"fillmode\":\"overlay\",\"size\":10,\"solidity\":0.2},\"type\":\"scatter\"}],\"parcoords\":[{\"type\":\"parcoords\",\"line\":{\"colorbar\":{\"outlinewidth\":0,\"ticks\":\"\"}}}],\"scatterpolargl\":[{\"type\":\"scatterpolargl\",\"marker\":{\"colorbar\":{\"outlinewidth\":0,\"ticks\":\"\"}}}],\"bar\":[{\"error_x\":{\"color\":\"#2a3f5f\"},\"error_y\":{\"color\":\"#2a3f5f\"},\"marker\":{\"line\":{\"color\":\"#E5ECF6\",\"width\":0.5},\"pattern\":{\"fillmode\":\"overlay\",\"size\":10,\"solidity\":0.2}},\"type\":\"bar\"}],\"scattergeo\":[{\"type\":\"scattergeo\",\"marker\":{\"colorbar\":{\"outlinewidth\":0,\"ticks\":\"\"}}}],\"scatterpolar\":[{\"type\":\"scatterpolar\",\"marker\":{\"colorbar\":{\"outlinewidth\":0,\"ticks\":\"\"}}}],\"histogram\":[{\"marker\":{\"pattern\":{\"fillmode\":\"overlay\",\"size\":10,\"solidity\":0.2}},\"type\":\"histogram\"}],\"scattergl\":[{\"type\":\"scattergl\",\"marker\":{\"colorbar\":{\"outlinewidth\":0,\"ticks\":\"\"}}}],\"scatter3d\":[{\"type\":\"scatter3d\",\"line\":{\"colorbar\":{\"outlinewidth\":0,\"ticks\":\"\"}},\"marker\":{\"colorbar\":{\"outlinewidth\":0,\"ticks\":\"\"}}}],\"scattermapbox\":[{\"type\":\"scattermapbox\",\"marker\":{\"colorbar\":{\"outlinewidth\":0,\"ticks\":\"\"}}}],\"scatterternary\":[{\"type\":\"scatterternary\",\"marker\":{\"colorbar\":{\"outlinewidth\":0,\"ticks\":\"\"}}}],\"scattercarpet\":[{\"type\":\"scattercarpet\",\"marker\":{\"colorbar\":{\"outlinewidth\":0,\"ticks\":\"\"}}}],\"carpet\":[{\"aaxis\":{\"endlinecolor\":\"#2a3f5f\",\"gridcolor\":\"white\",\"linecolor\":\"white\",\"minorgridcolor\":\"white\",\"startlinecolor\":\"#2a3f5f\"},\"baxis\":{\"endlinecolor\":\"#2a3f5f\",\"gridcolor\":\"white\",\"linecolor\":\"white\",\"minorgridcolor\":\"white\",\"startlinecolor\":\"#2a3f5f\"},\"type\":\"carpet\"}],\"table\":[{\"cells\":{\"fill\":{\"color\":\"#EBF0F8\"},\"line\":{\"color\":\"white\"}},\"header\":{\"fill\":{\"color\":\"#C8D4E3\"},\"line\":{\"color\":\"white\"}},\"type\":\"table\"}],\"barpolar\":[{\"marker\":{\"line\":{\"color\":\"#E5ECF6\",\"width\":0.5},\"pattern\":{\"fillmode\":\"overlay\",\"size\":10,\"solidity\":0.2}},\"type\":\"barpolar\"}],\"pie\":[{\"automargin\":true,\"type\":\"pie\"}]},\"layout\":{\"autotypenumbers\":\"strict\",\"colorway\":[\"#636efa\",\"#EF553B\",\"#00cc96\",\"#ab63fa\",\"#FFA15A\",\"#19d3f3\",\"#FF6692\",\"#B6E880\",\"#FF97FF\",\"#FECB52\"],\"font\":{\"color\":\"#2a3f5f\"},\"hovermode\":\"closest\",\"hoverlabel\":{\"align\":\"left\"},\"paper_bgcolor\":\"white\",\"plot_bgcolor\":\"#E5ECF6\",\"polar\":{\"bgcolor\":\"#E5ECF6\",\"angularaxis\":{\"gridcolor\":\"white\",\"linecolor\":\"white\",\"ticks\":\"\"},\"radialaxis\":{\"gridcolor\":\"white\",\"linecolor\":\"white\",\"ticks\":\"\"}},\"ternary\":{\"bgcolor\":\"#E5ECF6\",\"aaxis\":{\"gridcolor\":\"white\",\"linecolor\":\"white\",\"ticks\":\"\"},\"baxis\":{\"gridcolor\":\"white\",\"linecolor\":\"white\",\"ticks\":\"\"},\"caxis\":{\"gridcolor\":\"white\",\"linecolor\":\"white\",\"ticks\":\"\"}},\"coloraxis\":{\"colorbar\":{\"outlinewidth\":0,\"ticks\":\"\"}},\"colorscale\":{\"sequential\":[[0.0,\"#0d0887\"],[0.1111111111111111,\"#46039f\"],[0.2222222222222222,\"#7201a8\"],[0.3333333333333333,\"#9c179e\"],[0.4444444444444444,\"#bd3786\"],[0.5555555555555556,\"#d8576b\"],[0.6666666666666666,\"#ed7953\"],[0.7777777777777778,\"#fb9f3a\"],[0.8888888888888888,\"#fdca26\"],[1.0,\"#f0f921\"]],\"sequentialminus\":[[0.0,\"#0d0887\"],[0.1111111111111111,\"#46039f\"],[0.2222222222222222,\"#7201a8\"],[0.3333333333333333,\"#9c179e\"],[0.4444444444444444,\"#bd3786\"],[0.5555555555555556,\"#d8576b\"],[0.6666666666666666,\"#ed7953\"],[0.7777777777777778,\"#fb9f3a\"],[0.8888888888888888,\"#fdca26\"],[1.0,\"#f0f921\"]],\"diverging\":[[0,\"#8e0152\"],[0.1,\"#c51b7d\"],[0.2,\"#de77ae\"],[0.3,\"#f1b6da\"],[0.4,\"#fde0ef\"],[0.5,\"#f7f7f7\"],[0.6,\"#e6f5d0\"],[0.7,\"#b8e186\"],[0.8,\"#7fbc41\"],[0.9,\"#4d9221\"],[1,\"#276419\"]]},\"xaxis\":{\"gridcolor\":\"white\",\"linecolor\":\"white\",\"ticks\":\"\",\"title\":{\"standoff\":15},\"zerolinecolor\":\"white\",\"automargin\":true,\"zerolinewidth\":2},\"yaxis\":{\"gridcolor\":\"white\",\"linecolor\":\"white\",\"ticks\":\"\",\"title\":{\"standoff\":15},\"zerolinecolor\":\"white\",\"automargin\":true,\"zerolinewidth\":2},\"scene\":{\"xaxis\":{\"backgroundcolor\":\"#E5ECF6\",\"gridcolor\":\"white\",\"linecolor\":\"white\",\"showbackground\":true,\"ticks\":\"\",\"zerolinecolor\":\"white\",\"gridwidth\":2},\"yaxis\":{\"backgroundcolor\":\"#E5ECF6\",\"gridcolor\":\"white\",\"linecolor\":\"white\",\"showbackground\":true,\"ticks\":\"\",\"zerolinecolor\":\"white\",\"gridwidth\":2},\"zaxis\":{\"backgroundcolor\":\"#E5ECF6\",\"gridcolor\":\"white\",\"linecolor\":\"white\",\"showbackground\":true,\"ticks\":\"\",\"zerolinecolor\":\"white\",\"gridwidth\":2}},\"shapedefaults\":{\"line\":{\"color\":\"#2a3f5f\"}},\"annotationdefaults\":{\"arrowcolor\":\"#2a3f5f\",\"arrowhead\":0,\"arrowwidth\":1},\"geo\":{\"bgcolor\":\"white\",\"landcolor\":\"#E5ECF6\",\"subunitcolor\":\"white\",\"showland\":true,\"showlakes\":true,\"lakecolor\":\"white\"},\"title\":{\"x\":0.05},\"mapbox\":{\"style\":\"light\"}}},\"scene\":{\"domain\":{\"x\":[0.0,1.0],\"y\":[0.0,1.0]},\"xaxis\":{\"title\":{\"text\":\"feature1\"}},\"yaxis\":{\"title\":{\"text\":\"feature2\"}},\"zaxis\":{\"title\":{\"text\":\"target\"}}},\"legend\":{\"tracegroupgap\":0},\"margin\":{\"t\":60}},                        {\"responsive\": true}                    ).then(function(){\n",
              "                            \n",
              "var gd = document.getElementById('9d538ca7-eb70-4270-8406-360c1feb2c4d');\n",
              "var x = new MutationObserver(function (mutations, observer) {{\n",
              "        var display = window.getComputedStyle(gd).display;\n",
              "        if (!display || display === 'none') {{\n",
              "            console.log([gd, 'removed!']);\n",
              "            Plotly.purge(gd);\n",
              "            observer.disconnect();\n",
              "        }}\n",
              "}});\n",
              "\n",
              "// Listen for the removal of the full notebook cells\n",
              "var notebookContainer = gd.closest('#notebook-container');\n",
              "if (notebookContainer) {{\n",
              "    x.observe(notebookContainer, {childList: true});\n",
              "}}\n",
              "\n",
              "// Listen for the clearing of the current output cell\n",
              "var outputEl = gd.closest('.output');\n",
              "if (outputEl) {{\n",
              "    x.observe(outputEl, {childList: true});\n",
              "}}\n",
              "\n",
              "                        })                };                            </script>        </div>\n",
              "</body>\n",
              "</html>"
            ]
          },
          "metadata": {}
        }
      ]
    },
    {
      "cell_type": "code",
      "metadata": {
        "id": "JuxDxS4JB80Z"
      },
      "source": [
        "from sklearn.model_selection import train_test_split\n",
        "X_train,X_test,y_train,y_test = train_test_split(X,y,test_size=0.2,random_state=3)"
      ],
      "execution_count": null,
      "outputs": []
    },
    {
      "cell_type": "code",
      "metadata": {
        "id": "eG18yML6nl0h"
      },
      "source": [
        "from sklearn.linear_model import LinearRegression"
      ],
      "execution_count": null,
      "outputs": []
    },
    {
      "cell_type": "code",
      "metadata": {
        "id": "W_OGmF3npCKC"
      },
      "source": [
        "lr = LinearRegression()"
      ],
      "execution_count": null,
      "outputs": []
    },
    {
      "cell_type": "code",
      "metadata": {
        "colab": {
          "base_uri": "https://localhost:8080/",
          "height": 74
        },
        "id": "g6hR7U0epEBR",
        "outputId": "3e06635c-93b1-41e4-c184-5e6eade64055"
      },
      "source": [
        "lr.fit(X_train,y_train)"
      ],
      "execution_count": null,
      "outputs": [
        {
          "output_type": "execute_result",
          "data": {
            "text/plain": [
              "LinearRegression()"
            ],
            "text/html": [
              "<style>#sk-container-id-1 {color: black;background-color: white;}#sk-container-id-1 pre{padding: 0;}#sk-container-id-1 div.sk-toggleable {background-color: white;}#sk-container-id-1 label.sk-toggleable__label {cursor: pointer;display: block;width: 100%;margin-bottom: 0;padding: 0.3em;box-sizing: border-box;text-align: center;}#sk-container-id-1 label.sk-toggleable__label-arrow:before {content: \"▸\";float: left;margin-right: 0.25em;color: #696969;}#sk-container-id-1 label.sk-toggleable__label-arrow:hover:before {color: black;}#sk-container-id-1 div.sk-estimator:hover label.sk-toggleable__label-arrow:before {color: black;}#sk-container-id-1 div.sk-toggleable__content {max-height: 0;max-width: 0;overflow: hidden;text-align: left;background-color: #f0f8ff;}#sk-container-id-1 div.sk-toggleable__content pre {margin: 0.2em;color: black;border-radius: 0.25em;background-color: #f0f8ff;}#sk-container-id-1 input.sk-toggleable__control:checked~div.sk-toggleable__content {max-height: 200px;max-width: 100%;overflow: auto;}#sk-container-id-1 input.sk-toggleable__control:checked~label.sk-toggleable__label-arrow:before {content: \"▾\";}#sk-container-id-1 div.sk-estimator input.sk-toggleable__control:checked~label.sk-toggleable__label {background-color: #d4ebff;}#sk-container-id-1 div.sk-label input.sk-toggleable__control:checked~label.sk-toggleable__label {background-color: #d4ebff;}#sk-container-id-1 input.sk-hidden--visually {border: 0;clip: rect(1px 1px 1px 1px);clip: rect(1px, 1px, 1px, 1px);height: 1px;margin: -1px;overflow: hidden;padding: 0;position: absolute;width: 1px;}#sk-container-id-1 div.sk-estimator {font-family: monospace;background-color: #f0f8ff;border: 1px dotted black;border-radius: 0.25em;box-sizing: border-box;margin-bottom: 0.5em;}#sk-container-id-1 div.sk-estimator:hover {background-color: #d4ebff;}#sk-container-id-1 div.sk-parallel-item::after {content: \"\";width: 100%;border-bottom: 1px solid gray;flex-grow: 1;}#sk-container-id-1 div.sk-label:hover label.sk-toggleable__label {background-color: #d4ebff;}#sk-container-id-1 div.sk-serial::before {content: \"\";position: absolute;border-left: 1px solid gray;box-sizing: border-box;top: 0;bottom: 0;left: 50%;z-index: 0;}#sk-container-id-1 div.sk-serial {display: flex;flex-direction: column;align-items: center;background-color: white;padding-right: 0.2em;padding-left: 0.2em;position: relative;}#sk-container-id-1 div.sk-item {position: relative;z-index: 1;}#sk-container-id-1 div.sk-parallel {display: flex;align-items: stretch;justify-content: center;background-color: white;position: relative;}#sk-container-id-1 div.sk-item::before, #sk-container-id-1 div.sk-parallel-item::before {content: \"\";position: absolute;border-left: 1px solid gray;box-sizing: border-box;top: 0;bottom: 0;left: 50%;z-index: -1;}#sk-container-id-1 div.sk-parallel-item {display: flex;flex-direction: column;z-index: 1;position: relative;background-color: white;}#sk-container-id-1 div.sk-parallel-item:first-child::after {align-self: flex-end;width: 50%;}#sk-container-id-1 div.sk-parallel-item:last-child::after {align-self: flex-start;width: 50%;}#sk-container-id-1 div.sk-parallel-item:only-child::after {width: 0;}#sk-container-id-1 div.sk-dashed-wrapped {border: 1px dashed gray;margin: 0 0.4em 0.5em 0.4em;box-sizing: border-box;padding-bottom: 0.4em;background-color: white;}#sk-container-id-1 div.sk-label label {font-family: monospace;font-weight: bold;display: inline-block;line-height: 1.2em;}#sk-container-id-1 div.sk-label-container {text-align: center;}#sk-container-id-1 div.sk-container {/* jupyter's `normalize.less` sets `[hidden] { display: none; }` but bootstrap.min.css set `[hidden] { display: none !important; }` so we also need the `!important` here to be able to override the default hidden behavior on the sphinx rendered scikit-learn.org. See: https://github.com/scikit-learn/scikit-learn/issues/21755 */display: inline-block !important;position: relative;}#sk-container-id-1 div.sk-text-repr-fallback {display: none;}</style><div id=\"sk-container-id-1\" class=\"sk-top-container\"><div class=\"sk-text-repr-fallback\"><pre>LinearRegression()</pre><b>In a Jupyter environment, please rerun this cell to show the HTML representation or trust the notebook. <br />On GitHub, the HTML representation is unable to render, please try loading this page with nbviewer.org.</b></div><div class=\"sk-container\" hidden><div class=\"sk-item\"><div class=\"sk-estimator sk-toggleable\"><input class=\"sk-toggleable__control sk-hidden--visually\" id=\"sk-estimator-id-1\" type=\"checkbox\" checked><label for=\"sk-estimator-id-1\" class=\"sk-toggleable__label sk-toggleable__label-arrow\">LinearRegression</label><div class=\"sk-toggleable__content\"><pre>LinearRegression()</pre></div></div></div></div></div>"
            ]
          },
          "metadata": {},
          "execution_count": 21
        }
      ]
    },
    {
      "cell_type": "code",
      "source": [
        "lr.coef_"
      ],
      "metadata": {
        "colab": {
          "base_uri": "https://localhost:8080/"
        },
        "id": "QvuWoecAqI5K",
        "outputId": "375dd366-e09e-4203-c293-b44ccd70ddba"
      },
      "execution_count": null,
      "outputs": [
        {
          "output_type": "execute_result",
          "data": {
            "text/plain": [
              "array([41.19436195, 35.66773662])"
            ]
          },
          "metadata": {},
          "execution_count": 44
        }
      ]
    },
    {
      "cell_type": "code",
      "source": [
        "lr.get_params()"
      ],
      "metadata": {
        "colab": {
          "base_uri": "https://localhost:8080/"
        },
        "id": "rTf3GMxArAh5",
        "outputId": "1ceffe6f-67b6-423a-8f42-2c2388d27a64"
      },
      "execution_count": null,
      "outputs": [
        {
          "output_type": "execute_result",
          "data": {
            "text/plain": [
              "{'copy_X': True, 'fit_intercept': True, 'n_jobs': None, 'positive': False}"
            ]
          },
          "metadata": {},
          "execution_count": 45
        }
      ]
    },
    {
      "cell_type": "code",
      "source": [
        "lr.score(X_train,y_train)"
      ],
      "metadata": {
        "id": "uTdQPJjCrLol",
        "outputId": "35308db1-6392-4ff5-ebc1-2bb1a5f4ded4",
        "colab": {
          "base_uri": "https://localhost:8080/"
        }
      },
      "execution_count": null,
      "outputs": [
        {
          "output_type": "execute_result",
          "data": {
            "text/plain": [
              "0.5227261163667374"
            ]
          },
          "metadata": {},
          "execution_count": 46
        }
      ]
    },
    {
      "cell_type": "code",
      "metadata": {
        "id": "eKExpiVMpF9F"
      },
      "source": [
        "y_pred = lr.predict(X_test)"
      ],
      "execution_count": null,
      "outputs": []
    },
    {
      "cell_type": "code",
      "metadata": {
        "colab": {
          "base_uri": "https://localhost:8080/"
        },
        "id": "90AXRhgzrSW_",
        "outputId": "2bc6db41-8438-4663-bffd-f04173d5f1a3"
      },
      "source": [
        "print(\"MAE\",mean_absolute_error(y_test,y_pred))\n",
        "print(\"MSE\",mean_squared_error(y_test,y_pred))\n",
        "print(\"R2 score\",r2_score(y_test,y_pred))"
      ],
      "execution_count": null,
      "outputs": [
        {
          "output_type": "stream",
          "name": "stdout",
          "text": [
            "MAE 30.416060704139845\n",
            "MSE 1446.7830818016048\n",
            "R2 score 0.6740433275875786\n"
          ]
        }
      ]
    },
    {
      "cell_type": "code",
      "metadata": {
        "id": "GQQrYU8r3fpd"
      },
      "source": [
        "x = np.linspace(-5, 5, 10)\n",
        "y = np.linspace(-5, 5, 10)\n",
        "xGrid, yGrid = np.meshgrid(y, x)\n",
        "\n",
        "final = np.vstack((xGrid.ravel().reshape(1,100),yGrid.ravel().reshape(1,100))).T\n",
        "z = lr.predict(final).reshape(10,10)\n",
        "\n",
        "\n",
        "\n"
      ],
      "execution_count": null,
      "outputs": []
    },
    {
      "cell_type": "code",
      "source": [
        "x"
      ],
      "metadata": {
        "colab": {
          "base_uri": "https://localhost:8080/"
        },
        "id": "ywdPkAwBoAPI",
        "outputId": "71331a22-a968-4967-e385-f359b7a10ac4"
      },
      "execution_count": null,
      "outputs": [
        {
          "output_type": "execute_result",
          "data": {
            "text/plain": [
              "array([-5.        , -3.88888889, -2.77777778, -1.66666667, -0.55555556,\n",
              "        0.55555556,  1.66666667,  2.77777778,  3.88888889,  5.        ])"
            ]
          },
          "metadata": {},
          "execution_count": 40
        }
      ]
    },
    {
      "cell_type": "code",
      "source": [
        "xGrid"
      ],
      "metadata": {
        "colab": {
          "base_uri": "https://localhost:8080/"
        },
        "id": "-NJboFQXni9b",
        "outputId": "9c49fbb4-293d-48e1-c1fc-cfc0a43fd443"
      },
      "execution_count": null,
      "outputs": [
        {
          "output_type": "execute_result",
          "data": {
            "text/plain": [
              "array([[-5.        , -3.88888889, -2.77777778, -1.66666667, -0.55555556,\n",
              "         0.55555556,  1.66666667,  2.77777778,  3.88888889,  5.        ],\n",
              "       [-5.        , -3.88888889, -2.77777778, -1.66666667, -0.55555556,\n",
              "         0.55555556,  1.66666667,  2.77777778,  3.88888889,  5.        ],\n",
              "       [-5.        , -3.88888889, -2.77777778, -1.66666667, -0.55555556,\n",
              "         0.55555556,  1.66666667,  2.77777778,  3.88888889,  5.        ],\n",
              "       [-5.        , -3.88888889, -2.77777778, -1.66666667, -0.55555556,\n",
              "         0.55555556,  1.66666667,  2.77777778,  3.88888889,  5.        ],\n",
              "       [-5.        , -3.88888889, -2.77777778, -1.66666667, -0.55555556,\n",
              "         0.55555556,  1.66666667,  2.77777778,  3.88888889,  5.        ],\n",
              "       [-5.        , -3.88888889, -2.77777778, -1.66666667, -0.55555556,\n",
              "         0.55555556,  1.66666667,  2.77777778,  3.88888889,  5.        ],\n",
              "       [-5.        , -3.88888889, -2.77777778, -1.66666667, -0.55555556,\n",
              "         0.55555556,  1.66666667,  2.77777778,  3.88888889,  5.        ],\n",
              "       [-5.        , -3.88888889, -2.77777778, -1.66666667, -0.55555556,\n",
              "         0.55555556,  1.66666667,  2.77777778,  3.88888889,  5.        ],\n",
              "       [-5.        , -3.88888889, -2.77777778, -1.66666667, -0.55555556,\n",
              "         0.55555556,  1.66666667,  2.77777778,  3.88888889,  5.        ],\n",
              "       [-5.        , -3.88888889, -2.77777778, -1.66666667, -0.55555556,\n",
              "         0.55555556,  1.66666667,  2.77777778,  3.88888889,  5.        ]])"
            ]
          },
          "metadata": {},
          "execution_count": 39
        }
      ]
    },
    {
      "cell_type": "code",
      "source": [
        "xGrid.ravel()"
      ],
      "metadata": {
        "colab": {
          "base_uri": "https://localhost:8080/"
        },
        "id": "a1EX4MknoJIJ",
        "outputId": "d5e13a19-ac87-4de3-efd4-37c8ad9a2cf9"
      },
      "execution_count": null,
      "outputs": [
        {
          "output_type": "execute_result",
          "data": {
            "text/plain": [
              "array([-5.        , -3.88888889, -2.77777778, -1.66666667, -0.55555556,\n",
              "        0.55555556,  1.66666667,  2.77777778,  3.88888889,  5.        ,\n",
              "       -5.        , -3.88888889, -2.77777778, -1.66666667, -0.55555556,\n",
              "        0.55555556,  1.66666667,  2.77777778,  3.88888889,  5.        ,\n",
              "       -5.        , -3.88888889, -2.77777778, -1.66666667, -0.55555556,\n",
              "        0.55555556,  1.66666667,  2.77777778,  3.88888889,  5.        ,\n",
              "       -5.        , -3.88888889, -2.77777778, -1.66666667, -0.55555556,\n",
              "        0.55555556,  1.66666667,  2.77777778,  3.88888889,  5.        ,\n",
              "       -5.        , -3.88888889, -2.77777778, -1.66666667, -0.55555556,\n",
              "        0.55555556,  1.66666667,  2.77777778,  3.88888889,  5.        ,\n",
              "       -5.        , -3.88888889, -2.77777778, -1.66666667, -0.55555556,\n",
              "        0.55555556,  1.66666667,  2.77777778,  3.88888889,  5.        ,\n",
              "       -5.        , -3.88888889, -2.77777778, -1.66666667, -0.55555556,\n",
              "        0.55555556,  1.66666667,  2.77777778,  3.88888889,  5.        ,\n",
              "       -5.        , -3.88888889, -2.77777778, -1.66666667, -0.55555556,\n",
              "        0.55555556,  1.66666667,  2.77777778,  3.88888889,  5.        ,\n",
              "       -5.        , -3.88888889, -2.77777778, -1.66666667, -0.55555556,\n",
              "        0.55555556,  1.66666667,  2.77777778,  3.88888889,  5.        ,\n",
              "       -5.        , -3.88888889, -2.77777778, -1.66666667, -0.55555556,\n",
              "        0.55555556,  1.66666667,  2.77777778,  3.88888889,  5.        ])"
            ]
          },
          "metadata": {},
          "execution_count": 41
        }
      ]
    },
    {
      "cell_type": "code",
      "source": [
        "xGrid.ravel().reshape(1,100)"
      ],
      "metadata": {
        "colab": {
          "base_uri": "https://localhost:8080/"
        },
        "id": "CqcMLXfToNTA",
        "outputId": "a3c67411-46a0-48b3-eaa2-e39478979be8"
      },
      "execution_count": null,
      "outputs": [
        {
          "output_type": "execute_result",
          "data": {
            "text/plain": [
              "array([[-5.        , -3.88888889, -2.77777778, -1.66666667, -0.55555556,\n",
              "         0.55555556,  1.66666667,  2.77777778,  3.88888889,  5.        ,\n",
              "        -5.        , -3.88888889, -2.77777778, -1.66666667, -0.55555556,\n",
              "         0.55555556,  1.66666667,  2.77777778,  3.88888889,  5.        ,\n",
              "        -5.        , -3.88888889, -2.77777778, -1.66666667, -0.55555556,\n",
              "         0.55555556,  1.66666667,  2.77777778,  3.88888889,  5.        ,\n",
              "        -5.        , -3.88888889, -2.77777778, -1.66666667, -0.55555556,\n",
              "         0.55555556,  1.66666667,  2.77777778,  3.88888889,  5.        ,\n",
              "        -5.        , -3.88888889, -2.77777778, -1.66666667, -0.55555556,\n",
              "         0.55555556,  1.66666667,  2.77777778,  3.88888889,  5.        ,\n",
              "        -5.        , -3.88888889, -2.77777778, -1.66666667, -0.55555556,\n",
              "         0.55555556,  1.66666667,  2.77777778,  3.88888889,  5.        ,\n",
              "        -5.        , -3.88888889, -2.77777778, -1.66666667, -0.55555556,\n",
              "         0.55555556,  1.66666667,  2.77777778,  3.88888889,  5.        ,\n",
              "        -5.        , -3.88888889, -2.77777778, -1.66666667, -0.55555556,\n",
              "         0.55555556,  1.66666667,  2.77777778,  3.88888889,  5.        ,\n",
              "        -5.        , -3.88888889, -2.77777778, -1.66666667, -0.55555556,\n",
              "         0.55555556,  1.66666667,  2.77777778,  3.88888889,  5.        ,\n",
              "        -5.        , -3.88888889, -2.77777778, -1.66666667, -0.55555556,\n",
              "         0.55555556,  1.66666667,  2.77777778,  3.88888889,  5.        ]])"
            ]
          },
          "metadata": {},
          "execution_count": 42
        }
      ]
    },
    {
      "cell_type": "code",
      "source": [
        "final"
      ],
      "metadata": {
        "colab": {
          "base_uri": "https://localhost:8080/"
        },
        "id": "ha9azoWcoWGW",
        "outputId": "81da86df-bb52-41c6-9b3e-2f0a59a1acdb"
      },
      "execution_count": null,
      "outputs": [
        {
          "output_type": "execute_result",
          "data": {
            "text/plain": [
              "array([[-5.        , -5.        ],\n",
              "       [-3.88888889, -5.        ],\n",
              "       [-2.77777778, -5.        ],\n",
              "       [-1.66666667, -5.        ],\n",
              "       [-0.55555556, -5.        ],\n",
              "       [ 0.55555556, -5.        ],\n",
              "       [ 1.66666667, -5.        ],\n",
              "       [ 2.77777778, -5.        ],\n",
              "       [ 3.88888889, -5.        ],\n",
              "       [ 5.        , -5.        ],\n",
              "       [-5.        , -3.88888889],\n",
              "       [-3.88888889, -3.88888889],\n",
              "       [-2.77777778, -3.88888889],\n",
              "       [-1.66666667, -3.88888889],\n",
              "       [-0.55555556, -3.88888889],\n",
              "       [ 0.55555556, -3.88888889],\n",
              "       [ 1.66666667, -3.88888889],\n",
              "       [ 2.77777778, -3.88888889],\n",
              "       [ 3.88888889, -3.88888889],\n",
              "       [ 5.        , -3.88888889],\n",
              "       [-5.        , -2.77777778],\n",
              "       [-3.88888889, -2.77777778],\n",
              "       [-2.77777778, -2.77777778],\n",
              "       [-1.66666667, -2.77777778],\n",
              "       [-0.55555556, -2.77777778],\n",
              "       [ 0.55555556, -2.77777778],\n",
              "       [ 1.66666667, -2.77777778],\n",
              "       [ 2.77777778, -2.77777778],\n",
              "       [ 3.88888889, -2.77777778],\n",
              "       [ 5.        , -2.77777778],\n",
              "       [-5.        , -1.66666667],\n",
              "       [-3.88888889, -1.66666667],\n",
              "       [-2.77777778, -1.66666667],\n",
              "       [-1.66666667, -1.66666667],\n",
              "       [-0.55555556, -1.66666667],\n",
              "       [ 0.55555556, -1.66666667],\n",
              "       [ 1.66666667, -1.66666667],\n",
              "       [ 2.77777778, -1.66666667],\n",
              "       [ 3.88888889, -1.66666667],\n",
              "       [ 5.        , -1.66666667],\n",
              "       [-5.        , -0.55555556],\n",
              "       [-3.88888889, -0.55555556],\n",
              "       [-2.77777778, -0.55555556],\n",
              "       [-1.66666667, -0.55555556],\n",
              "       [-0.55555556, -0.55555556],\n",
              "       [ 0.55555556, -0.55555556],\n",
              "       [ 1.66666667, -0.55555556],\n",
              "       [ 2.77777778, -0.55555556],\n",
              "       [ 3.88888889, -0.55555556],\n",
              "       [ 5.        , -0.55555556],\n",
              "       [-5.        ,  0.55555556],\n",
              "       [-3.88888889,  0.55555556],\n",
              "       [-2.77777778,  0.55555556],\n",
              "       [-1.66666667,  0.55555556],\n",
              "       [-0.55555556,  0.55555556],\n",
              "       [ 0.55555556,  0.55555556],\n",
              "       [ 1.66666667,  0.55555556],\n",
              "       [ 2.77777778,  0.55555556],\n",
              "       [ 3.88888889,  0.55555556],\n",
              "       [ 5.        ,  0.55555556],\n",
              "       [-5.        ,  1.66666667],\n",
              "       [-3.88888889,  1.66666667],\n",
              "       [-2.77777778,  1.66666667],\n",
              "       [-1.66666667,  1.66666667],\n",
              "       [-0.55555556,  1.66666667],\n",
              "       [ 0.55555556,  1.66666667],\n",
              "       [ 1.66666667,  1.66666667],\n",
              "       [ 2.77777778,  1.66666667],\n",
              "       [ 3.88888889,  1.66666667],\n",
              "       [ 5.        ,  1.66666667],\n",
              "       [-5.        ,  2.77777778],\n",
              "       [-3.88888889,  2.77777778],\n",
              "       [-2.77777778,  2.77777778],\n",
              "       [-1.66666667,  2.77777778],\n",
              "       [-0.55555556,  2.77777778],\n",
              "       [ 0.55555556,  2.77777778],\n",
              "       [ 1.66666667,  2.77777778],\n",
              "       [ 2.77777778,  2.77777778],\n",
              "       [ 3.88888889,  2.77777778],\n",
              "       [ 5.        ,  2.77777778],\n",
              "       [-5.        ,  3.88888889],\n",
              "       [-3.88888889,  3.88888889],\n",
              "       [-2.77777778,  3.88888889],\n",
              "       [-1.66666667,  3.88888889],\n",
              "       [-0.55555556,  3.88888889],\n",
              "       [ 0.55555556,  3.88888889],\n",
              "       [ 1.66666667,  3.88888889],\n",
              "       [ 2.77777778,  3.88888889],\n",
              "       [ 3.88888889,  3.88888889],\n",
              "       [ 5.        ,  3.88888889],\n",
              "       [-5.        ,  5.        ],\n",
              "       [-3.88888889,  5.        ],\n",
              "       [-2.77777778,  5.        ],\n",
              "       [-1.66666667,  5.        ],\n",
              "       [-0.55555556,  5.        ],\n",
              "       [ 0.55555556,  5.        ],\n",
              "       [ 1.66666667,  5.        ],\n",
              "       [ 2.77777778,  5.        ],\n",
              "       [ 3.88888889,  5.        ],\n",
              "       [ 5.        ,  5.        ]])"
            ]
          },
          "metadata": {},
          "execution_count": 43
        }
      ]
    },
    {
      "cell_type": "code",
      "metadata": {
        "colab": {
          "base_uri": "https://localhost:8080/",
          "height": 542
        },
        "id": "NpAvnU-t3yV0",
        "outputId": "0b417d39-5ebc-42df-bf1e-638e41b7b0bd"
      },
      "source": [
        "fig = px.scatter_3d(df, x='feature1', y='feature2', z='target')\n",
        "\n",
        "fig.add_trace(go.Surface(x = x, y = y, z =z ))\n",
        "\n",
        "fig.show()"
      ],
      "execution_count": null,
      "outputs": [
        {
          "output_type": "display_data",
          "data": {
            "text/html": [
              "<html>\n",
              "<head><meta charset=\"utf-8\" /></head>\n",
              "<body>\n",
              "    <div>            <script src=\"https://cdnjs.cloudflare.com/ajax/libs/mathjax/2.7.5/MathJax.js?config=TeX-AMS-MML_SVG\"></script><script type=\"text/javascript\">if (window.MathJax && window.MathJax.Hub && window.MathJax.Hub.Config) {window.MathJax.Hub.Config({SVG: {font: \"STIX-Web\"}});}</script>                <script type=\"text/javascript\">window.PlotlyConfig = {MathJaxConfig: 'local'};</script>\n",
              "        <script charset=\"utf-8\" src=\"https://cdn.plot.ly/plotly-2.24.1.min.js\"></script>                <div id=\"7cbccb8a-7938-41d4-888e-3dc20837df43\" class=\"plotly-graph-div\" style=\"height:525px; width:100%;\"></div>            <script type=\"text/javascript\">                                    window.PLOTLYENV=window.PLOTLYENV || {};                                    if (document.getElementById(\"7cbccb8a-7938-41d4-888e-3dc20837df43\")) {                    Plotly.newPlot(                        \"7cbccb8a-7938-41d4-888e-3dc20837df43\",                        [{\"hovertemplate\":\"feature1=%{x}\\u003cbr\\u003efeature2=%{y}\\u003cbr\\u003etarget=%{z}\\u003cextra\\u003e\\u003c\\u002fextra\\u003e\",\"legendgroup\":\"\",\"marker\":{\"color\":\"#636efa\",\"symbol\":\"circle\"},\"mode\":\"markers\",\"name\":\"\",\"scene\":\"scene\",\"showlegend\":false,\"x\":[-1.1683271508711537,-0.7322269364761063,0.7076349140312665,-1.4054036889128911,0.12912218978083095,0.5279879185723836,1.100211873353852,0.5416462356313901,1.4069187527424234,-1.2908678939483786,0.11829301771285147,1.1095590794557442,2.0339360772749924,-0.5478582629885042,-1.9001677553914975,2.0127200896410917,0.05193709543138178,-0.4922248731803119,0.2496186060412795,0.19866475988115095,-0.4200022201629691,0.11324972792214603,-0.29310128688442944,-0.12167736205474225,-0.9031594692255328,-0.6523183070899865,-0.11478199870015553,1.4571629537323052,-1.5256622746680433,-0.42852853449422984,1.3803427791852187,-1.882553588049647,0.22326891675582575,1.6425009094092373,-0.01758674789821172,1.6167354539453294,1.7170301986819725,-0.7674910371844224,-0.95662869340239,0.6800274149186099,0.07463033259909505,-0.35036083900165743,0.9937872716694199,1.1557570123932444,1.623608602895293,0.15788834911653638,0.11484518490866033,-1.1297987732458619,-0.23711812097301435,1.9056163874093732,1.311986749757713,-0.3206811426215034,-1.4587453300088566,0.297148397730495,-1.1153803996208047,-0.32601205089869556,1.353011989606796,2.3762244970716218,-0.4962920077348957,-0.15003045679821475,-0.3220259918908365,0.6876671114415094,1.252658554631058,0.42794512785215805,-0.7562491185967134,0.18835768080297183,-0.5454822233327125,-0.09389306294468745,1.3876394876590812,-0.12299434504616204,0.4988358485192349,1.2276001261887814,-0.13287275938628024,0.8468449813901036,0.2400644665063693,0.909103482831463,-0.48846885167121346,-0.36874094678268216,0.07671059206483011,-0.5876090382046473,1.092367009290458,1.4816156971090866,1.4008372523287125,2.0920002152187536,-1.1396028775864457,0.18410722881886418,1.1316600905575578,-2.697007536250571,-0.3025946645089075,-0.846090888733957,-0.024094326600202276,-0.295900065516236,-0.0022860878349995747,0.36101039462621876,0.3099136862341087,-1.4006776996313066,-0.38091321295935116,-0.11322304731624581,1.6089476403947192,0.2704807948086977],\"y\":[-0.8754647891212884,1.610564206704359,-1.4535098024424145,1.1375532473495082,0.6955988404588592,-0.07915973049740772,1.601719746941833,-1.3804257930493904,0.7544414619724027,-1.5021278692056415,0.40859576595168023,-1.1233107204808777,0.608184694078642,-0.7153962810183122,1.2465032012957786,0.2077990393717558,-1.316746637777975,0.26292313913478566,1.1220185415851907,1.133231118061449,-1.0887933464718098,-0.33930006530480694,-0.6642117041449582,0.588152754400662,0.3941925345434103,0.8874646486390451,1.4433227159729745,0.55096174061661,0.3866690627746206,-0.40279822850560587,0.3574146121594415,-0.26933976074134985,0.24553134614052052,-0.4800584820598324,0.06005608807523515,-1.881294667016047,0.5096534381709309,0.676568755171774,1.2491552040355849,0.2436643230680758,0.9203726322495622,-0.284630798264119,0.24353856761165552,0.14603450226099654,-0.3184936954090652,0.8907138548708402,-0.6959676843283193,0.019400777018649455,-1.0828590235706548,1.8677353312026999,-0.20429204878121784,2.0024883967455853,0.8298847730433397,2.0665604995061284,0.37112723200748676,0.6645388382819328,0.13634905842786155,1.4352094028742222,0.851525016911039,0.0622324142545672,-1.0340530174949711,-2.041800580970981,-0.4494736243247587,0.8111685053244234,1.0641487412733093,0.7498250272964752,-1.4228727700310642,-0.6315960916632113,-0.08147295385119599,0.10575601821625166,-0.5261327324544333,-1.0712521225236789,-0.3149435989102829,0.20188343543035336,1.8268532012219223,0.21403354649372305,0.4494942732185183,1.4407612239380363,-0.9964261375446083,-0.9122501507826306,1.703322452077234,0.006834421296173623,1.5546072525258088,-0.7327846021216472,0.02188813993401702,-0.5632494269959426,-0.54173152938665,0.966603169151615,0.3659534474045088,1.6815426452319016,-0.7313807838267962,1.6640793889481025,-1.1989928010598334,1.074072038134854,0.8021071370141658,0.3245342417803262,-0.7704740858188456,-0.9131790273475698,0.836682306948025,-0.37269102812864224],\"z\":[-98.9167802276824,-11.70861783012877,59.33656317527449,46.872069036653016,115.25331383816358,26.85388313405279,92.19828023373728,-57.7816360808544,167.33528308362986,-108.39305980235629,-101.1875406506427,33.844288720244165,145.37244624924543,-66.16470806193983,-85.25890042332642,75.13687085878173,-100.91317221883696,-89.97662550114876,63.392735438635505,118.03583904925243,-21.977414495797326,18.362356673378713,-78.83621124339673,1.5326097542442643,2.0453612340874336,21.135328095015424,32.192066113148115,120.88184896204177,-122.01044148076568,29.53102670116959,13.602420311586897,-103.91928289775532,48.29242274433919,94.05334036827168,32.958064992044875,0.6808465215807145,50.68866817508207,24.595383901013303,72.61283682509307,-41.87332452746265,77.61443144498345,-87.24305208095123,-30.25708766980442,203.69854500733098,23.909407963796397,132.78492451196664,-37.72868155040777,-46.49730881727432,33.749189169891075,128.11384251743166,88.48670486048829,76.05234352716185,-15.962838245304287,101.0008979603731,-19.710181948454483,26.47194386048995,47.12721480175335,139.9337181433204,49.45314368438698,-58.2406942112067,-8.266776555455024,-11.878169982840845,64.93699668053603,-4.252718208217793,15.77865120077439,-25.664920929498642,-56.10746333031397,9.215658102085204,31.635339587596906,17.568533676207466,-61.60580451393564,-24.1532382162566,-42.08199031457114,31.251463854365607,85.78086430797883,27.967228007562266,-6.611585303336945,68.10244317918347,-8.564606421607284,-27.901090749278705,96.12870794481337,65.74761819815116,141.51751273500304,78.11350128097699,21.92579436566482,19.502795295063116,-5.298123255503146,-39.65795688601298,38.11711723115298,17.232257424518274,-65.74864252053156,18.224922082954006,-31.27008826411295,100.06079729048625,115.39364944076948,-10.509559543232683,-49.666461173859446,-61.727275563771094,70.08669426002214,-141.2348332085461],\"type\":\"scatter3d\"},{\"x\":[-5.0,-3.888888888888889,-2.7777777777777777,-1.6666666666666665,-0.5555555555555554,0.5555555555555554,1.666666666666667,2.7777777777777786,3.8888888888888893,5.0],\"y\":[-5.0,-3.888888888888889,-2.7777777777777777,-1.6666666666666665,-0.5555555555555554,0.5555555555555554,1.666666666666667,2.7777777777777786,3.8888888888888893,5.0],\"z\":[[-379.4182713279394,-333.6467580460108,-287.87524476408225,-242.10373148215368,-196.3322182002251,-150.56070491829655,-104.78919163636795,-59.01767835443933,-13.246165072510784,32.52534820941779],[-339.78745286098547,-294.0159395790569,-248.24442629712834,-202.47291301519974,-156.70139973327116,-110.92988645134261,-65.158373169414,-19.386859887485393,26.384653394443156,72.15616667637173],[-300.1566343940315,-254.38512111210295,-208.61360783017435,-162.8420945482458,-117.07058126631719,-71.29906798438864,-25.52755470246003,20.243958579468575,66.01547186139712,111.7869851433257],[-260.52581592707753,-214.75430264514898,-168.9827893632204,-123.2112760812918,-77.43976279936322,-31.66824951743466,14.103263764493938,59.874777046422544,105.64629032835109,151.41780361027966],[-220.8949974601236,-175.123484178195,-129.35197089626644,-83.58045761433783,-37.80894433240926,7.962568949519305,53.73408223144791,99.5055955133765,145.27710879530505,191.04862207723363],[-181.26417899316965,-135.49266571124107,-89.72115242931247,-43.9496391473839,1.8218741345446894,47.593387416473256,93.36490069840184,139.13641398033045,184.907927262259,230.67944054418757],[-141.63336052621568,-95.86184724428708,-50.09033396235849,-4.318820680429916,41.45269260149867,87.22420588342723,132.99571916535584,178.76723244728444,224.538745729213,270.31025901114157],[-102.00254205926169,-56.2310287773331,-10.45951549540451,35.31199778652407,81.08351106845265,126.8550243503812,172.6265376323098,218.3980509142384,264.16956419616696,309.94107747809556],[-62.37172359230774,-16.60021031037916,29.17130297154943,74.94281625347801,120.71432953540659,166.48584281733514,212.25735609926375,258.02886938119235,303.80038266312096,349.5718959450495],[-22.740905125353798,23.03060815657478,68.80212143850338,114.57363472043195,160.34514800236053,206.11666128428908,251.88817456621769,297.65968784814635,343.43120113007484,389.20271441200344]],\"type\":\"surface\"}],                        {\"template\":{\"data\":{\"histogram2dcontour\":[{\"type\":\"histogram2dcontour\",\"colorbar\":{\"outlinewidth\":0,\"ticks\":\"\"},\"colorscale\":[[0.0,\"#0d0887\"],[0.1111111111111111,\"#46039f\"],[0.2222222222222222,\"#7201a8\"],[0.3333333333333333,\"#9c179e\"],[0.4444444444444444,\"#bd3786\"],[0.5555555555555556,\"#d8576b\"],[0.6666666666666666,\"#ed7953\"],[0.7777777777777778,\"#fb9f3a\"],[0.8888888888888888,\"#fdca26\"],[1.0,\"#f0f921\"]]}],\"choropleth\":[{\"type\":\"choropleth\",\"colorbar\":{\"outlinewidth\":0,\"ticks\":\"\"}}],\"histogram2d\":[{\"type\":\"histogram2d\",\"colorbar\":{\"outlinewidth\":0,\"ticks\":\"\"},\"colorscale\":[[0.0,\"#0d0887\"],[0.1111111111111111,\"#46039f\"],[0.2222222222222222,\"#7201a8\"],[0.3333333333333333,\"#9c179e\"],[0.4444444444444444,\"#bd3786\"],[0.5555555555555556,\"#d8576b\"],[0.6666666666666666,\"#ed7953\"],[0.7777777777777778,\"#fb9f3a\"],[0.8888888888888888,\"#fdca26\"],[1.0,\"#f0f921\"]]}],\"heatmap\":[{\"type\":\"heatmap\",\"colorbar\":{\"outlinewidth\":0,\"ticks\":\"\"},\"colorscale\":[[0.0,\"#0d0887\"],[0.1111111111111111,\"#46039f\"],[0.2222222222222222,\"#7201a8\"],[0.3333333333333333,\"#9c179e\"],[0.4444444444444444,\"#bd3786\"],[0.5555555555555556,\"#d8576b\"],[0.6666666666666666,\"#ed7953\"],[0.7777777777777778,\"#fb9f3a\"],[0.8888888888888888,\"#fdca26\"],[1.0,\"#f0f921\"]]}],\"heatmapgl\":[{\"type\":\"heatmapgl\",\"colorbar\":{\"outlinewidth\":0,\"ticks\":\"\"},\"colorscale\":[[0.0,\"#0d0887\"],[0.1111111111111111,\"#46039f\"],[0.2222222222222222,\"#7201a8\"],[0.3333333333333333,\"#9c179e\"],[0.4444444444444444,\"#bd3786\"],[0.5555555555555556,\"#d8576b\"],[0.6666666666666666,\"#ed7953\"],[0.7777777777777778,\"#fb9f3a\"],[0.8888888888888888,\"#fdca26\"],[1.0,\"#f0f921\"]]}],\"contourcarpet\":[{\"type\":\"contourcarpet\",\"colorbar\":{\"outlinewidth\":0,\"ticks\":\"\"}}],\"contour\":[{\"type\":\"contour\",\"colorbar\":{\"outlinewidth\":0,\"ticks\":\"\"},\"colorscale\":[[0.0,\"#0d0887\"],[0.1111111111111111,\"#46039f\"],[0.2222222222222222,\"#7201a8\"],[0.3333333333333333,\"#9c179e\"],[0.4444444444444444,\"#bd3786\"],[0.5555555555555556,\"#d8576b\"],[0.6666666666666666,\"#ed7953\"],[0.7777777777777778,\"#fb9f3a\"],[0.8888888888888888,\"#fdca26\"],[1.0,\"#f0f921\"]]}],\"surface\":[{\"type\":\"surface\",\"colorbar\":{\"outlinewidth\":0,\"ticks\":\"\"},\"colorscale\":[[0.0,\"#0d0887\"],[0.1111111111111111,\"#46039f\"],[0.2222222222222222,\"#7201a8\"],[0.3333333333333333,\"#9c179e\"],[0.4444444444444444,\"#bd3786\"],[0.5555555555555556,\"#d8576b\"],[0.6666666666666666,\"#ed7953\"],[0.7777777777777778,\"#fb9f3a\"],[0.8888888888888888,\"#fdca26\"],[1.0,\"#f0f921\"]]}],\"mesh3d\":[{\"type\":\"mesh3d\",\"colorbar\":{\"outlinewidth\":0,\"ticks\":\"\"}}],\"scatter\":[{\"fillpattern\":{\"fillmode\":\"overlay\",\"size\":10,\"solidity\":0.2},\"type\":\"scatter\"}],\"parcoords\":[{\"type\":\"parcoords\",\"line\":{\"colorbar\":{\"outlinewidth\":0,\"ticks\":\"\"}}}],\"scatterpolargl\":[{\"type\":\"scatterpolargl\",\"marker\":{\"colorbar\":{\"outlinewidth\":0,\"ticks\":\"\"}}}],\"bar\":[{\"error_x\":{\"color\":\"#2a3f5f\"},\"error_y\":{\"color\":\"#2a3f5f\"},\"marker\":{\"line\":{\"color\":\"#E5ECF6\",\"width\":0.5},\"pattern\":{\"fillmode\":\"overlay\",\"size\":10,\"solidity\":0.2}},\"type\":\"bar\"}],\"scattergeo\":[{\"type\":\"scattergeo\",\"marker\":{\"colorbar\":{\"outlinewidth\":0,\"ticks\":\"\"}}}],\"scatterpolar\":[{\"type\":\"scatterpolar\",\"marker\":{\"colorbar\":{\"outlinewidth\":0,\"ticks\":\"\"}}}],\"histogram\":[{\"marker\":{\"pattern\":{\"fillmode\":\"overlay\",\"size\":10,\"solidity\":0.2}},\"type\":\"histogram\"}],\"scattergl\":[{\"type\":\"scattergl\",\"marker\":{\"colorbar\":{\"outlinewidth\":0,\"ticks\":\"\"}}}],\"scatter3d\":[{\"type\":\"scatter3d\",\"line\":{\"colorbar\":{\"outlinewidth\":0,\"ticks\":\"\"}},\"marker\":{\"colorbar\":{\"outlinewidth\":0,\"ticks\":\"\"}}}],\"scattermapbox\":[{\"type\":\"scattermapbox\",\"marker\":{\"colorbar\":{\"outlinewidth\":0,\"ticks\":\"\"}}}],\"scatterternary\":[{\"type\":\"scatterternary\",\"marker\":{\"colorbar\":{\"outlinewidth\":0,\"ticks\":\"\"}}}],\"scattercarpet\":[{\"type\":\"scattercarpet\",\"marker\":{\"colorbar\":{\"outlinewidth\":0,\"ticks\":\"\"}}}],\"carpet\":[{\"aaxis\":{\"endlinecolor\":\"#2a3f5f\",\"gridcolor\":\"white\",\"linecolor\":\"white\",\"minorgridcolor\":\"white\",\"startlinecolor\":\"#2a3f5f\"},\"baxis\":{\"endlinecolor\":\"#2a3f5f\",\"gridcolor\":\"white\",\"linecolor\":\"white\",\"minorgridcolor\":\"white\",\"startlinecolor\":\"#2a3f5f\"},\"type\":\"carpet\"}],\"table\":[{\"cells\":{\"fill\":{\"color\":\"#EBF0F8\"},\"line\":{\"color\":\"white\"}},\"header\":{\"fill\":{\"color\":\"#C8D4E3\"},\"line\":{\"color\":\"white\"}},\"type\":\"table\"}],\"barpolar\":[{\"marker\":{\"line\":{\"color\":\"#E5ECF6\",\"width\":0.5},\"pattern\":{\"fillmode\":\"overlay\",\"size\":10,\"solidity\":0.2}},\"type\":\"barpolar\"}],\"pie\":[{\"automargin\":true,\"type\":\"pie\"}]},\"layout\":{\"autotypenumbers\":\"strict\",\"colorway\":[\"#636efa\",\"#EF553B\",\"#00cc96\",\"#ab63fa\",\"#FFA15A\",\"#19d3f3\",\"#FF6692\",\"#B6E880\",\"#FF97FF\",\"#FECB52\"],\"font\":{\"color\":\"#2a3f5f\"},\"hovermode\":\"closest\",\"hoverlabel\":{\"align\":\"left\"},\"paper_bgcolor\":\"white\",\"plot_bgcolor\":\"#E5ECF6\",\"polar\":{\"bgcolor\":\"#E5ECF6\",\"angularaxis\":{\"gridcolor\":\"white\",\"linecolor\":\"white\",\"ticks\":\"\"},\"radialaxis\":{\"gridcolor\":\"white\",\"linecolor\":\"white\",\"ticks\":\"\"}},\"ternary\":{\"bgcolor\":\"#E5ECF6\",\"aaxis\":{\"gridcolor\":\"white\",\"linecolor\":\"white\",\"ticks\":\"\"},\"baxis\":{\"gridcolor\":\"white\",\"linecolor\":\"white\",\"ticks\":\"\"},\"caxis\":{\"gridcolor\":\"white\",\"linecolor\":\"white\",\"ticks\":\"\"}},\"coloraxis\":{\"colorbar\":{\"outlinewidth\":0,\"ticks\":\"\"}},\"colorscale\":{\"sequential\":[[0.0,\"#0d0887\"],[0.1111111111111111,\"#46039f\"],[0.2222222222222222,\"#7201a8\"],[0.3333333333333333,\"#9c179e\"],[0.4444444444444444,\"#bd3786\"],[0.5555555555555556,\"#d8576b\"],[0.6666666666666666,\"#ed7953\"],[0.7777777777777778,\"#fb9f3a\"],[0.8888888888888888,\"#fdca26\"],[1.0,\"#f0f921\"]],\"sequentialminus\":[[0.0,\"#0d0887\"],[0.1111111111111111,\"#46039f\"],[0.2222222222222222,\"#7201a8\"],[0.3333333333333333,\"#9c179e\"],[0.4444444444444444,\"#bd3786\"],[0.5555555555555556,\"#d8576b\"],[0.6666666666666666,\"#ed7953\"],[0.7777777777777778,\"#fb9f3a\"],[0.8888888888888888,\"#fdca26\"],[1.0,\"#f0f921\"]],\"diverging\":[[0,\"#8e0152\"],[0.1,\"#c51b7d\"],[0.2,\"#de77ae\"],[0.3,\"#f1b6da\"],[0.4,\"#fde0ef\"],[0.5,\"#f7f7f7\"],[0.6,\"#e6f5d0\"],[0.7,\"#b8e186\"],[0.8,\"#7fbc41\"],[0.9,\"#4d9221\"],[1,\"#276419\"]]},\"xaxis\":{\"gridcolor\":\"white\",\"linecolor\":\"white\",\"ticks\":\"\",\"title\":{\"standoff\":15},\"zerolinecolor\":\"white\",\"automargin\":true,\"zerolinewidth\":2},\"yaxis\":{\"gridcolor\":\"white\",\"linecolor\":\"white\",\"ticks\":\"\",\"title\":{\"standoff\":15},\"zerolinecolor\":\"white\",\"automargin\":true,\"zerolinewidth\":2},\"scene\":{\"xaxis\":{\"backgroundcolor\":\"#E5ECF6\",\"gridcolor\":\"white\",\"linecolor\":\"white\",\"showbackground\":true,\"ticks\":\"\",\"zerolinecolor\":\"white\",\"gridwidth\":2},\"yaxis\":{\"backgroundcolor\":\"#E5ECF6\",\"gridcolor\":\"white\",\"linecolor\":\"white\",\"showbackground\":true,\"ticks\":\"\",\"zerolinecolor\":\"white\",\"gridwidth\":2},\"zaxis\":{\"backgroundcolor\":\"#E5ECF6\",\"gridcolor\":\"white\",\"linecolor\":\"white\",\"showbackground\":true,\"ticks\":\"\",\"zerolinecolor\":\"white\",\"gridwidth\":2}},\"shapedefaults\":{\"line\":{\"color\":\"#2a3f5f\"}},\"annotationdefaults\":{\"arrowcolor\":\"#2a3f5f\",\"arrowhead\":0,\"arrowwidth\":1},\"geo\":{\"bgcolor\":\"white\",\"landcolor\":\"#E5ECF6\",\"subunitcolor\":\"white\",\"showland\":true,\"showlakes\":true,\"lakecolor\":\"white\"},\"title\":{\"x\":0.05},\"mapbox\":{\"style\":\"light\"}}},\"scene\":{\"domain\":{\"x\":[0.0,1.0],\"y\":[0.0,1.0]},\"xaxis\":{\"title\":{\"text\":\"feature1\"}},\"yaxis\":{\"title\":{\"text\":\"feature2\"}},\"zaxis\":{\"title\":{\"text\":\"target\"}}},\"legend\":{\"tracegroupgap\":0},\"margin\":{\"t\":60}},                        {\"responsive\": true}                    ).then(function(){\n",
              "                            \n",
              "var gd = document.getElementById('7cbccb8a-7938-41d4-888e-3dc20837df43');\n",
              "var x = new MutationObserver(function (mutations, observer) {{\n",
              "        var display = window.getComputedStyle(gd).display;\n",
              "        if (!display || display === 'none') {{\n",
              "            console.log([gd, 'removed!']);\n",
              "            Plotly.purge(gd);\n",
              "            observer.disconnect();\n",
              "        }}\n",
              "}});\n",
              "\n",
              "// Listen for the removal of the full notebook cells\n",
              "var notebookContainer = gd.closest('#notebook-container');\n",
              "if (notebookContainer) {{\n",
              "    x.observe(notebookContainer, {childList: true});\n",
              "}}\n",
              "\n",
              "// Listen for the clearing of the current output cell\n",
              "var outputEl = gd.closest('.output');\n",
              "if (outputEl) {{\n",
              "    x.observe(outputEl, {childList: true});\n",
              "}}\n",
              "\n",
              "                        })                };                            </script>        </div>\n",
              "</body>\n",
              "</html>"
            ]
          },
          "metadata": {}
        }
      ]
    },
    {
      "cell_type": "code",
      "metadata": {
        "colab": {
          "base_uri": "https://localhost:8080/"
        },
        "id": "YVdgVIn_5ElG",
        "outputId": "a4624677-e21d-4831-82fa-c699f99f14f8"
      },
      "source": [
        "lr.coef_"
      ],
      "execution_count": null,
      "outputs": [
        {
          "output_type": "execute_result",
          "data": {
            "text/plain": [
              "array([41.19436195, 35.66773662])"
            ]
          },
          "metadata": {},
          "execution_count": 26
        }
      ]
    },
    {
      "cell_type": "code",
      "metadata": {
        "colab": {
          "base_uri": "https://localhost:8080/"
        },
        "id": "kIVDDKIynz1b",
        "outputId": "beca34ef-890e-42b4-cba4-cf93f5ecca5a"
      },
      "source": [
        "lr.intercept_"
      ],
      "execution_count": null,
      "outputs": [
        {
          "output_type": "execute_result",
          "data": {
            "text/plain": [
              "4.892221542031997"
            ]
          },
          "metadata": {},
          "execution_count": 27
        }
      ]
    },
    {
      "cell_type": "code",
      "metadata": {
        "id": "m7ZOTCgen3l3"
      },
      "source": [],
      "execution_count": null,
      "outputs": []
    },
    {
      "cell_type": "code",
      "source": [],
      "metadata": {
        "id": "fWanaK237LCv"
      },
      "execution_count": null,
      "outputs": []
    },
    {
      "cell_type": "markdown",
      "source": [
        "# Code From Scretch"
      ],
      "metadata": {
        "id": "GY4sDATX7Lry"
      }
    },
    {
      "cell_type": "code",
      "source": [],
      "metadata": {
        "id": "8xbg1B-f7OCW"
      },
      "execution_count": null,
      "outputs": []
    },
    {
      "cell_type": "code",
      "execution_count": null,
      "metadata": {
        "id": "19b4e356"
      },
      "outputs": [],
      "source": [
        "import numpy as np\n",
        "from sklearn.datasets import load_diabetes"
      ]
    },
    {
      "cell_type": "code",
      "execution_count": null,
      "metadata": {
        "id": "e902ac7a"
      },
      "outputs": [],
      "source": [
        "X,y = load_diabetes(return_X_y=True)"
      ]
    },
    {
      "cell_type": "code",
      "execution_count": null,
      "metadata": {
        "id": "678b82c1",
        "outputId": "0994afff-54df-4e33-82ab-79964a37e55c",
        "colab": {
          "base_uri": "https://localhost:8080/"
        }
      },
      "outputs": [
        {
          "output_type": "execute_result",
          "data": {
            "text/plain": [
              "array([[ 0.03807591,  0.05068012,  0.06169621, ..., -0.00259226,\n",
              "         0.01990749, -0.01764613],\n",
              "       [-0.00188202, -0.04464164, -0.05147406, ..., -0.03949338,\n",
              "        -0.06833155, -0.09220405],\n",
              "       [ 0.08529891,  0.05068012,  0.04445121, ..., -0.00259226,\n",
              "         0.00286131, -0.02593034],\n",
              "       ...,\n",
              "       [ 0.04170844,  0.05068012, -0.01590626, ..., -0.01107952,\n",
              "        -0.04688253,  0.01549073],\n",
              "       [-0.04547248, -0.04464164,  0.03906215, ...,  0.02655962,\n",
              "         0.04452873, -0.02593034],\n",
              "       [-0.04547248, -0.04464164, -0.0730303 , ..., -0.03949338,\n",
              "        -0.00422151,  0.00306441]])"
            ]
          },
          "metadata": {},
          "execution_count": 30
        }
      ],
      "source": [
        "X"
      ]
    },
    {
      "cell_type": "code",
      "execution_count": null,
      "metadata": {
        "id": "afc9a715",
        "outputId": "82e213c3-bb78-4de2-fb5b-6cd5c26f71bf",
        "colab": {
          "base_uri": "https://localhost:8080/"
        }
      },
      "outputs": [
        {
          "output_type": "execute_result",
          "data": {
            "text/plain": [
              "(442, 10)"
            ]
          },
          "metadata": {},
          "execution_count": 31
        }
      ],
      "source": [
        "X.shape"
      ]
    },
    {
      "cell_type": "code",
      "execution_count": null,
      "metadata": {
        "id": "51c9f69b",
        "outputId": "fd0e65d3-04a1-495b-a2be-b37da5a7f193",
        "colab": {
          "base_uri": "https://localhost:8080/"
        }
      },
      "outputs": [
        {
          "output_type": "execute_result",
          "data": {
            "text/plain": [
              "array([151.,  75., 141., 206., 135.,  97., 138.,  63., 110., 310., 101.,\n",
              "        69., 179., 185., 118., 171., 166., 144.,  97., 168.,  68.,  49.,\n",
              "        68., 245., 184., 202., 137.,  85., 131., 283., 129.,  59., 341.,\n",
              "        87.,  65., 102., 265., 276., 252.,  90., 100.,  55.,  61.,  92.,\n",
              "       259.,  53., 190., 142.,  75., 142., 155., 225.,  59., 104., 182.,\n",
              "       128.,  52.,  37., 170., 170.,  61., 144.,  52., 128.,  71., 163.,\n",
              "       150.,  97., 160., 178.,  48., 270., 202., 111.,  85.,  42., 170.,\n",
              "       200., 252., 113., 143.,  51.,  52., 210.,  65., 141.,  55., 134.,\n",
              "        42., 111.,  98., 164.,  48.,  96.,  90., 162., 150., 279.,  92.,\n",
              "        83., 128., 102., 302., 198.,  95.,  53., 134., 144., 232.,  81.,\n",
              "       104.,  59., 246., 297., 258., 229., 275., 281., 179., 200., 200.,\n",
              "       173., 180.,  84., 121., 161.,  99., 109., 115., 268., 274., 158.,\n",
              "       107.,  83., 103., 272.,  85., 280., 336., 281., 118., 317., 235.,\n",
              "        60., 174., 259., 178., 128.,  96., 126., 288.,  88., 292.,  71.,\n",
              "       197., 186.,  25.,  84.,  96., 195.,  53., 217., 172., 131., 214.,\n",
              "        59.,  70., 220., 268., 152.,  47.,  74., 295., 101., 151., 127.,\n",
              "       237., 225.,  81., 151., 107.,  64., 138., 185., 265., 101., 137.,\n",
              "       143., 141.,  79., 292., 178.,  91., 116.,  86., 122.,  72., 129.,\n",
              "       142.,  90., 158.,  39., 196., 222., 277.,  99., 196., 202., 155.,\n",
              "        77., 191.,  70.,  73.,  49.,  65., 263., 248., 296., 214., 185.,\n",
              "        78.,  93., 252., 150.,  77., 208.,  77., 108., 160.,  53., 220.,\n",
              "       154., 259.,  90., 246., 124.,  67.,  72., 257., 262., 275., 177.,\n",
              "        71.,  47., 187., 125.,  78.,  51., 258., 215., 303., 243.,  91.,\n",
              "       150., 310., 153., 346.,  63.,  89.,  50.,  39., 103., 308., 116.,\n",
              "       145.,  74.,  45., 115., 264.,  87., 202., 127., 182., 241.,  66.,\n",
              "        94., 283.,  64., 102., 200., 265.,  94., 230., 181., 156., 233.,\n",
              "        60., 219.,  80.,  68., 332., 248.,  84., 200.,  55.,  85.,  89.,\n",
              "        31., 129.,  83., 275.,  65., 198., 236., 253., 124.,  44., 172.,\n",
              "       114., 142., 109., 180., 144., 163., 147.,  97., 220., 190., 109.,\n",
              "       191., 122., 230., 242., 248., 249., 192., 131., 237.,  78., 135.,\n",
              "       244., 199., 270., 164.,  72.,  96., 306.,  91., 214.,  95., 216.,\n",
              "       263., 178., 113., 200., 139., 139.,  88., 148.,  88., 243.,  71.,\n",
              "        77., 109., 272.,  60.,  54., 221.,  90., 311., 281., 182., 321.,\n",
              "        58., 262., 206., 233., 242., 123., 167.,  63., 197.,  71., 168.,\n",
              "       140., 217., 121., 235., 245.,  40.,  52., 104., 132.,  88.,  69.,\n",
              "       219.,  72., 201., 110.,  51., 277.,  63., 118.,  69., 273., 258.,\n",
              "        43., 198., 242., 232., 175.,  93., 168., 275., 293., 281.,  72.,\n",
              "       140., 189., 181., 209., 136., 261., 113., 131., 174., 257.,  55.,\n",
              "        84.,  42., 146., 212., 233.,  91., 111., 152., 120.,  67., 310.,\n",
              "        94., 183.,  66., 173.,  72.,  49.,  64.,  48., 178., 104., 132.,\n",
              "       220.,  57.])"
            ]
          },
          "metadata": {},
          "execution_count": 32
        }
      ],
      "source": [
        "y"
      ]
    },
    {
      "cell_type": "code",
      "execution_count": null,
      "metadata": {
        "id": "0dec04d8",
        "outputId": "1518a411-6afa-4bee-9c2f-00696f06c235",
        "colab": {
          "base_uri": "https://localhost:8080/"
        }
      },
      "outputs": [
        {
          "output_type": "execute_result",
          "data": {
            "text/plain": [
              "(442,)"
            ]
          },
          "metadata": {},
          "execution_count": 33
        }
      ],
      "source": [
        "y.shape"
      ]
    },
    {
      "cell_type": "markdown",
      "metadata": {
        "id": "4517e3a4"
      },
      "source": [
        "## Using Sklearn's Linear Regression"
      ]
    },
    {
      "cell_type": "code",
      "execution_count": null,
      "metadata": {
        "id": "5e5b799a"
      },
      "outputs": [],
      "source": [
        "from sklearn.model_selection import train_test_split"
      ]
    },
    {
      "cell_type": "code",
      "execution_count": null,
      "metadata": {
        "id": "254aa80e"
      },
      "outputs": [],
      "source": [
        "X_train,X_test,y_train,y_test = train_test_split(X,y,test_size=0.2,random_state=2)"
      ]
    },
    {
      "cell_type": "code",
      "execution_count": null,
      "metadata": {
        "id": "9dc4933f",
        "outputId": "620f607b-42c0-4a2c-ad3e-3514e73da19d",
        "colab": {
          "base_uri": "https://localhost:8080/"
        }
      },
      "outputs": [
        {
          "output_type": "stream",
          "name": "stdout",
          "text": [
            "(353, 10)\n",
            "(89, 10)\n"
          ]
        }
      ],
      "source": [
        "print(X_train.shape)\n",
        "print(X_test.shape)"
      ]
    },
    {
      "cell_type": "code",
      "execution_count": null,
      "metadata": {
        "id": "f5368101"
      },
      "outputs": [],
      "source": [
        "from sklearn.linear_model import LinearRegression"
      ]
    },
    {
      "cell_type": "code",
      "execution_count": null,
      "metadata": {
        "id": "1e6811b2"
      },
      "outputs": [],
      "source": [
        "reg = LinearRegression()"
      ]
    },
    {
      "cell_type": "code",
      "execution_count": null,
      "metadata": {
        "id": "37c0a51f",
        "outputId": "50a3bd4c-f4f2-4e6f-9a61-c5932e62846b",
        "colab": {
          "base_uri": "https://localhost:8080/"
        }
      },
      "outputs": [
        {
          "output_type": "execute_result",
          "data": {
            "text/plain": [
              "LinearRegression()"
            ],
            "text/html": [
              "<style>#sk-container-id-2 {color: black;background-color: white;}#sk-container-id-2 pre{padding: 0;}#sk-container-id-2 div.sk-toggleable {background-color: white;}#sk-container-id-2 label.sk-toggleable__label {cursor: pointer;display: block;width: 100%;margin-bottom: 0;padding: 0.3em;box-sizing: border-box;text-align: center;}#sk-container-id-2 label.sk-toggleable__label-arrow:before {content: \"▸\";float: left;margin-right: 0.25em;color: #696969;}#sk-container-id-2 label.sk-toggleable__label-arrow:hover:before {color: black;}#sk-container-id-2 div.sk-estimator:hover label.sk-toggleable__label-arrow:before {color: black;}#sk-container-id-2 div.sk-toggleable__content {max-height: 0;max-width: 0;overflow: hidden;text-align: left;background-color: #f0f8ff;}#sk-container-id-2 div.sk-toggleable__content pre {margin: 0.2em;color: black;border-radius: 0.25em;background-color: #f0f8ff;}#sk-container-id-2 input.sk-toggleable__control:checked~div.sk-toggleable__content {max-height: 200px;max-width: 100%;overflow: auto;}#sk-container-id-2 input.sk-toggleable__control:checked~label.sk-toggleable__label-arrow:before {content: \"▾\";}#sk-container-id-2 div.sk-estimator input.sk-toggleable__control:checked~label.sk-toggleable__label {background-color: #d4ebff;}#sk-container-id-2 div.sk-label input.sk-toggleable__control:checked~label.sk-toggleable__label {background-color: #d4ebff;}#sk-container-id-2 input.sk-hidden--visually {border: 0;clip: rect(1px 1px 1px 1px);clip: rect(1px, 1px, 1px, 1px);height: 1px;margin: -1px;overflow: hidden;padding: 0;position: absolute;width: 1px;}#sk-container-id-2 div.sk-estimator {font-family: monospace;background-color: #f0f8ff;border: 1px dotted black;border-radius: 0.25em;box-sizing: border-box;margin-bottom: 0.5em;}#sk-container-id-2 div.sk-estimator:hover {background-color: #d4ebff;}#sk-container-id-2 div.sk-parallel-item::after {content: \"\";width: 100%;border-bottom: 1px solid gray;flex-grow: 1;}#sk-container-id-2 div.sk-label:hover label.sk-toggleable__label {background-color: #d4ebff;}#sk-container-id-2 div.sk-serial::before {content: \"\";position: absolute;border-left: 1px solid gray;box-sizing: border-box;top: 0;bottom: 0;left: 50%;z-index: 0;}#sk-container-id-2 div.sk-serial {display: flex;flex-direction: column;align-items: center;background-color: white;padding-right: 0.2em;padding-left: 0.2em;position: relative;}#sk-container-id-2 div.sk-item {position: relative;z-index: 1;}#sk-container-id-2 div.sk-parallel {display: flex;align-items: stretch;justify-content: center;background-color: white;position: relative;}#sk-container-id-2 div.sk-item::before, #sk-container-id-2 div.sk-parallel-item::before {content: \"\";position: absolute;border-left: 1px solid gray;box-sizing: border-box;top: 0;bottom: 0;left: 50%;z-index: -1;}#sk-container-id-2 div.sk-parallel-item {display: flex;flex-direction: column;z-index: 1;position: relative;background-color: white;}#sk-container-id-2 div.sk-parallel-item:first-child::after {align-self: flex-end;width: 50%;}#sk-container-id-2 div.sk-parallel-item:last-child::after {align-self: flex-start;width: 50%;}#sk-container-id-2 div.sk-parallel-item:only-child::after {width: 0;}#sk-container-id-2 div.sk-dashed-wrapped {border: 1px dashed gray;margin: 0 0.4em 0.5em 0.4em;box-sizing: border-box;padding-bottom: 0.4em;background-color: white;}#sk-container-id-2 div.sk-label label {font-family: monospace;font-weight: bold;display: inline-block;line-height: 1.2em;}#sk-container-id-2 div.sk-label-container {text-align: center;}#sk-container-id-2 div.sk-container {/* jupyter's `normalize.less` sets `[hidden] { display: none; }` but bootstrap.min.css set `[hidden] { display: none !important; }` so we also need the `!important` here to be able to override the default hidden behavior on the sphinx rendered scikit-learn.org. See: https://github.com/scikit-learn/scikit-learn/issues/21755 */display: inline-block !important;position: relative;}#sk-container-id-2 div.sk-text-repr-fallback {display: none;}</style><div id=\"sk-container-id-2\" class=\"sk-top-container\"><div class=\"sk-text-repr-fallback\"><pre>LinearRegression()</pre><b>In a Jupyter environment, please rerun this cell to show the HTML representation or trust the notebook. <br />On GitHub, the HTML representation is unable to render, please try loading this page with nbviewer.org.</b></div><div class=\"sk-container\" hidden><div class=\"sk-item\"><div class=\"sk-estimator sk-toggleable\"><input class=\"sk-toggleable__control sk-hidden--visually\" id=\"sk-estimator-id-2\" type=\"checkbox\" checked><label for=\"sk-estimator-id-2\" class=\"sk-toggleable__label sk-toggleable__label-arrow\">LinearRegression</label><div class=\"sk-toggleable__content\"><pre>LinearRegression()</pre></div></div></div></div></div>"
            ]
          },
          "metadata": {},
          "execution_count": 28
        }
      ],
      "source": [
        "reg.fit(X_train,y_train)"
      ]
    },
    {
      "cell_type": "code",
      "execution_count": null,
      "metadata": {
        "id": "459d66cd"
      },
      "outputs": [],
      "source": [
        "y_pred = reg.predict(X_test)"
      ]
    },
    {
      "cell_type": "code",
      "execution_count": null,
      "metadata": {
        "id": "477f8286"
      },
      "outputs": [],
      "source": [
        "from sklearn.metrics import r2_score"
      ]
    },
    {
      "cell_type": "code",
      "execution_count": null,
      "metadata": {
        "id": "38f806a7",
        "outputId": "33f05e94-3846-424e-aa14-3d23973dfc37",
        "colab": {
          "base_uri": "https://localhost:8080/"
        }
      },
      "outputs": [
        {
          "output_type": "execute_result",
          "data": {
            "text/plain": [
              "0.4399338661568968"
            ]
          },
          "metadata": {},
          "execution_count": 31
        }
      ],
      "source": [
        "r2_score(y_test,y_pred)"
      ]
    },
    {
      "cell_type": "code",
      "execution_count": null,
      "metadata": {
        "id": "1c6fa7d4",
        "outputId": "0009352b-4462-4a48-e63d-a66e1210292f",
        "colab": {
          "base_uri": "https://localhost:8080/"
        }
      },
      "outputs": [
        {
          "output_type": "execute_result",
          "data": {
            "text/plain": [
              "array([  -9.15865318, -205.45432163,  516.69374454,  340.61999905,\n",
              "       -895.5520019 ,  561.22067904,  153.89310954,  126.73139688,\n",
              "        861.12700152,   52.42112238])"
            ]
          },
          "metadata": {},
          "execution_count": 32
        }
      ],
      "source": [
        "reg.coef_"
      ]
    },
    {
      "cell_type": "code",
      "execution_count": null,
      "metadata": {
        "id": "9309c622",
        "outputId": "c57454b1-882f-4be1-cda8-b2318e2c2ad1",
        "colab": {
          "base_uri": "https://localhost:8080/"
        }
      },
      "outputs": [
        {
          "output_type": "execute_result",
          "data": {
            "text/plain": [
              "151.88331005254167"
            ]
          },
          "metadata": {},
          "execution_count": 33
        }
      ],
      "source": [
        "reg.intercept_"
      ]
    },
    {
      "cell_type": "markdown",
      "metadata": {
        "id": "b84b1302"
      },
      "source": [
        "## Making our own Linear Regression Class"
      ]
    },
    {
      "cell_type": "code",
      "execution_count": null,
      "metadata": {
        "id": "a2aaf825"
      },
      "outputs": [],
      "source": [
        "class MeraLR:\n",
        "\n",
        "    def __init__(self):\n",
        "        self.coef_ = None\n",
        "        self.intercept_ = None\n",
        "\n",
        "    def fit(self,X_train,y_train):\n",
        "        X_train = np.insert(X_train,0,1,axis=1)\n",
        "\n",
        "        # calcuate the coeffs\n",
        "        betas = np.linalg.inv(np.dot(X_train.T,X_train)).dot(X_train.T).dot(y_train)\n",
        "        self.intercept_ = betas[0]\n",
        "        self.coef_ = betas[1:]\n",
        "\n",
        "    def predict(self,X_test):\n",
        "        y_pred = np.dot(X_test,self.coef_) + self.intercept_\n",
        "        return y_pred\n",
        "\n"
      ]
    },
    {
      "cell_type": "code",
      "execution_count": null,
      "metadata": {
        "id": "2f6a0efc"
      },
      "outputs": [],
      "source": [
        "lr = MeraLR()"
      ]
    },
    {
      "cell_type": "code",
      "execution_count": null,
      "metadata": {
        "id": "d3a93648"
      },
      "outputs": [],
      "source": [
        "lr.fit(X_train,y_train)"
      ]
    },
    {
      "cell_type": "code",
      "execution_count": null,
      "metadata": {
        "id": "f1b95f47",
        "outputId": "6847f6e8-cd0a-43fa-ba40-d04aab58e1ac",
        "colab": {
          "base_uri": "https://localhost:8080/"
        }
      },
      "outputs": [
        {
          "output_type": "execute_result",
          "data": {
            "text/plain": [
              "(353, 10)"
            ]
          },
          "metadata": {},
          "execution_count": 37
        }
      ],
      "source": [
        "X_train.shape"
      ]
    },
    {
      "cell_type": "code",
      "execution_count": null,
      "metadata": {
        "id": "d667c2af",
        "outputId": "925b4f5a-8376-49a5-9f86-d9a5e9898a56",
        "colab": {
          "base_uri": "https://localhost:8080/"
        }
      },
      "outputs": [
        {
          "output_type": "execute_result",
          "data": {
            "text/plain": [
              "(353, 11)"
            ]
          },
          "metadata": {},
          "execution_count": 38
        }
      ],
      "source": [
        "np.insert(X_train,0,1,axis=1).shape"
      ]
    },
    {
      "cell_type": "code",
      "execution_count": null,
      "metadata": {
        "id": "9525f2d5"
      },
      "outputs": [],
      "source": [
        "y_pred = lr.predict(X_test)"
      ]
    },
    {
      "cell_type": "code",
      "execution_count": null,
      "metadata": {
        "id": "106d789d",
        "outputId": "2abf9fc3-f699-4a1d-dcd0-0aea9fd5754d",
        "colab": {
          "base_uri": "https://localhost:8080/"
        }
      },
      "outputs": [
        {
          "output_type": "execute_result",
          "data": {
            "text/plain": [
              "0.43993386615689634"
            ]
          },
          "metadata": {},
          "execution_count": 40
        }
      ],
      "source": [
        "r2_score(y_test,y_pred)"
      ]
    },
    {
      "cell_type": "code",
      "execution_count": null,
      "metadata": {
        "id": "f0245b9f",
        "outputId": "00ba5090-a680-41bc-85ef-d1b91ff65516",
        "colab": {
          "base_uri": "https://localhost:8080/"
        }
      },
      "outputs": [
        {
          "output_type": "execute_result",
          "data": {
            "text/plain": [
              "array([  -9.15865318, -205.45432163,  516.69374454,  340.61999905,\n",
              "       -895.5520019 ,  561.22067904,  153.89310954,  126.73139688,\n",
              "        861.12700152,   52.42112238])"
            ]
          },
          "metadata": {},
          "execution_count": 41
        }
      ],
      "source": [
        "lr.coef_"
      ]
    },
    {
      "cell_type": "code",
      "execution_count": null,
      "metadata": {
        "id": "9df66921",
        "outputId": "a1573214-8746-4c06-cdd4-9bf88c8057f9",
        "colab": {
          "base_uri": "https://localhost:8080/"
        }
      },
      "outputs": [
        {
          "output_type": "execute_result",
          "data": {
            "text/plain": [
              "151.88331005254165"
            ]
          },
          "metadata": {},
          "execution_count": 42
        }
      ],
      "source": [
        "lr.intercept_"
      ]
    },
    {
      "cell_type": "code",
      "execution_count": null,
      "metadata": {
        "id": "9b58b5ed"
      },
      "outputs": [],
      "source": []
    }
  ]
}